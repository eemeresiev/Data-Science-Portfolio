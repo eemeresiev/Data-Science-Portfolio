{
 "cells": [
  {
   "cell_type": "markdown",
   "id": "76a1fe69",
   "metadata": {},
   "source": [
    "# ITC 686 FINAL PROJECT"
   ]
  },
  {
   "cell_type": "markdown",
   "id": "71e002c7",
   "metadata": {},
   "source": [
    "## PART 3 (Data Analysis)"
   ]
  },
  {
   "cell_type": "markdown",
   "id": "bd20bcd9",
   "metadata": {},
   "source": [
    "### Data Loading"
   ]
  },
  {
   "cell_type": "markdown",
   "id": "84246c68",
   "metadata": {},
   "source": [
    "Imported necessary module, connected to our MongoDB and created a connection to our databasename, with our collection and required documents."
   ]
  },
  {
   "cell_type": "code",
   "execution_count": 1,
   "id": "f3f1e6db",
   "metadata": {
    "scrolled": true
   },
   "outputs": [],
   "source": [
    "import string\n",
    "import numpy as np\n",
    "import pandas as pd\n",
    "import matplotlib.pyplot as plt\n",
    "import pymongo\n",
    "\n",
    "myclient = pymongo.MongoClient(\"mongodb://localhost:27017/\")\n",
    "\n",
    "mydb = myclient[\"finalprojectdatabase\"]\n",
    "mycol = mydb[\"amazon_reviews\"]"
   ]
  },
  {
   "cell_type": "markdown",
   "id": "5d8fcfe6",
   "metadata": {},
   "source": [
    "Loaded the collection containing the required documents to a pandas dataframe and then checked the first 5 rows to confirm it was done correctly"
   ]
  },
  {
   "cell_type": "code",
   "execution_count": 2,
   "id": "2d159f7f",
   "metadata": {},
   "outputs": [
    {
     "data": {
      "text/html": [
       "<div>\n",
       "<style scoped>\n",
       "    .dataframe tbody tr th:only-of-type {\n",
       "        vertical-align: middle;\n",
       "    }\n",
       "\n",
       "    .dataframe tbody tr th {\n",
       "        vertical-align: top;\n",
       "    }\n",
       "\n",
       "    .dataframe thead th {\n",
       "        text-align: right;\n",
       "    }\n",
       "</style>\n",
       "<table border=\"1\" class=\"dataframe\">\n",
       "  <thead>\n",
       "    <tr style=\"text-align: right;\">\n",
       "      <th></th>\n",
       "      <th>_id</th>\n",
       "      <th>marketplace</th>\n",
       "      <th>customer_id</th>\n",
       "      <th>review_id</th>\n",
       "      <th>product_id</th>\n",
       "      <th>product_parent</th>\n",
       "      <th>product_title</th>\n",
       "      <th>product_category</th>\n",
       "      <th>star_rating</th>\n",
       "      <th>helpful_votes</th>\n",
       "      <th>total_votes</th>\n",
       "      <th>vine</th>\n",
       "      <th>verified_purchase</th>\n",
       "      <th>review_headline</th>\n",
       "      <th>review_body</th>\n",
       "      <th>review_date</th>\n",
       "    </tr>\n",
       "  </thead>\n",
       "  <tbody>\n",
       "    <tr>\n",
       "      <th>0</th>\n",
       "      <td>1</td>\n",
       "      <td>US</td>\n",
       "      <td>9970739</td>\n",
       "      <td>R8EWA1OFT84NX</td>\n",
       "      <td>B00GSP5D94</td>\n",
       "      <td>329991347</td>\n",
       "      <td>Summer Infant SwaddleMe Adjustable Infant Wrap...</td>\n",
       "      <td>Baby</td>\n",
       "      <td>5</td>\n",
       "      <td>0.0</td>\n",
       "      <td>0.0</td>\n",
       "      <td>N</td>\n",
       "      <td>Y</td>\n",
       "      <td>Great swaddled blankets</td>\n",
       "      <td>Loved these swaddle blankets and so did my dau...</td>\n",
       "      <td>2015-08-31</td>\n",
       "    </tr>\n",
       "    <tr>\n",
       "      <th>1</th>\n",
       "      <td>2</td>\n",
       "      <td>US</td>\n",
       "      <td>23538442</td>\n",
       "      <td>R2JWY4YRQD4FOP</td>\n",
       "      <td>B00YYDDZGU</td>\n",
       "      <td>646108902</td>\n",
       "      <td>Pacifier Clip Girl (3 Pack) Ziggy Baby 2-Sided...</td>\n",
       "      <td>Baby</td>\n",
       "      <td>5</td>\n",
       "      <td>0.0</td>\n",
       "      <td>0.0</td>\n",
       "      <td>N</td>\n",
       "      <td>N</td>\n",
       "      <td>Too cute and really nice</td>\n",
       "      <td>These are adorable pacifier clips. SavvyBaby h...</td>\n",
       "      <td>2015-08-31</td>\n",
       "    </tr>\n",
       "    <tr>\n",
       "      <th>2</th>\n",
       "      <td>3</td>\n",
       "      <td>US</td>\n",
       "      <td>8273344</td>\n",
       "      <td>RL5ESX231LZ0B</td>\n",
       "      <td>B00BUBNZC8</td>\n",
       "      <td>642922361</td>\n",
       "      <td>Udder Covers - Breast Feeding Nursing Cover</td>\n",
       "      <td>Baby</td>\n",
       "      <td>5</td>\n",
       "      <td>0.0</td>\n",
       "      <td>0.0</td>\n",
       "      <td>N</td>\n",
       "      <td>Y</td>\n",
       "      <td>Five Stars</td>\n",
       "      <td>Great gift</td>\n",
       "      <td>2015-08-31</td>\n",
       "    </tr>\n",
       "    <tr>\n",
       "      <th>3</th>\n",
       "      <td>4</td>\n",
       "      <td>US</td>\n",
       "      <td>24557753</td>\n",
       "      <td>RRMS9ZWJ2KD08</td>\n",
       "      <td>B00AWLZFTS</td>\n",
       "      <td>494272733</td>\n",
       "      <td>Gerber Graduates Fun Pack Utensils</td>\n",
       "      <td>Baby</td>\n",
       "      <td>5</td>\n",
       "      <td>0.0</td>\n",
       "      <td>0.0</td>\n",
       "      <td>N</td>\n",
       "      <td>Y</td>\n",
       "      <td>Cute; wash up nicely in dishwasher.</td>\n",
       "      <td>These forks are great for my 10 month old daug...</td>\n",
       "      <td>2015-08-31</td>\n",
       "    </tr>\n",
       "    <tr>\n",
       "      <th>4</th>\n",
       "      <td>5</td>\n",
       "      <td>US</td>\n",
       "      <td>46263340</td>\n",
       "      <td>R14I3ZG5E6S7YM</td>\n",
       "      <td>B00KM60D3Q</td>\n",
       "      <td>305813185</td>\n",
       "      <td>Summer Infant Ultra Sight Pan/Scan/Zoom Video ...</td>\n",
       "      <td>Baby</td>\n",
       "      <td>5</td>\n",
       "      <td>0.0</td>\n",
       "      <td>0.0</td>\n",
       "      <td>N</td>\n",
       "      <td>Y</td>\n",
       "      <td>Love it!</td>\n",
       "      <td>I wanted something for piece of mind with my l...</td>\n",
       "      <td>2015-08-31</td>\n",
       "    </tr>\n",
       "  </tbody>\n",
       "</table>\n",
       "</div>"
      ],
      "text/plain": [
       "   _id marketplace  customer_id       review_id  product_id  product_parent  \\\n",
       "0    1          US      9970739   R8EWA1OFT84NX  B00GSP5D94       329991347   \n",
       "1    2          US     23538442  R2JWY4YRQD4FOP  B00YYDDZGU       646108902   \n",
       "2    3          US      8273344   RL5ESX231LZ0B  B00BUBNZC8       642922361   \n",
       "3    4          US     24557753   RRMS9ZWJ2KD08  B00AWLZFTS       494272733   \n",
       "4    5          US     46263340  R14I3ZG5E6S7YM  B00KM60D3Q       305813185   \n",
       "\n",
       "                                       product_title product_category  \\\n",
       "0  Summer Infant SwaddleMe Adjustable Infant Wrap...             Baby   \n",
       "1  Pacifier Clip Girl (3 Pack) Ziggy Baby 2-Sided...             Baby   \n",
       "2        Udder Covers - Breast Feeding Nursing Cover             Baby   \n",
       "3                 Gerber Graduates Fun Pack Utensils             Baby   \n",
       "4  Summer Infant Ultra Sight Pan/Scan/Zoom Video ...             Baby   \n",
       "\n",
       "  star_rating  helpful_votes  total_votes vine verified_purchase  \\\n",
       "0           5            0.0          0.0    N                 Y   \n",
       "1           5            0.0          0.0    N                 N   \n",
       "2           5            0.0          0.0    N                 Y   \n",
       "3           5            0.0          0.0    N                 Y   \n",
       "4           5            0.0          0.0    N                 Y   \n",
       "\n",
       "                       review_headline  \\\n",
       "0              Great swaddled blankets   \n",
       "1             Too cute and really nice   \n",
       "2                           Five Stars   \n",
       "3  Cute; wash up nicely in dishwasher.   \n",
       "4                             Love it!   \n",
       "\n",
       "                                         review_body review_date  \n",
       "0  Loved these swaddle blankets and so did my dau...  2015-08-31  \n",
       "1  These are adorable pacifier clips. SavvyBaby h...  2015-08-31  \n",
       "2                                         Great gift  2015-08-31  \n",
       "3  These forks are great for my 10 month old daug...  2015-08-31  \n",
       "4  I wanted something for piece of mind with my l...  2015-08-31  "
      ]
     },
     "execution_count": 2,
     "metadata": {},
     "output_type": "execute_result"
    }
   ],
   "source": [
    "data = pd.DataFrame(list(mycol.find()))\n",
    "data.head(5)"
   ]
  },
  {
   "cell_type": "markdown",
   "id": "776ee746",
   "metadata": {},
   "source": [
    "### Data Preparation and Cleaning"
   ]
  },
  {
   "cell_type": "markdown",
   "id": "14bef248",
   "metadata": {},
   "source": [
    "First we checked the data type of each column and then changed to necessary data type"
   ]
  },
  {
   "cell_type": "code",
   "execution_count": 3,
   "id": "bb7d025c",
   "metadata": {},
   "outputs": [
    {
     "data": {
      "text/plain": [
       "_id                    int64\n",
       "marketplace           object\n",
       "customer_id            int64\n",
       "review_id             object\n",
       "product_id            object\n",
       "product_parent         int64\n",
       "product_title         object\n",
       "product_category      object\n",
       "star_rating           object\n",
       "helpful_votes        float64\n",
       "total_votes          float64\n",
       "vine                  object\n",
       "verified_purchase     object\n",
       "review_headline       object\n",
       "review_body           object\n",
       "review_date           object\n",
       "dtype: object"
      ]
     },
     "execution_count": 3,
     "metadata": {},
     "output_type": "execute_result"
    }
   ],
   "source": [
    "data.dtypes"
   ]
  },
  {
   "cell_type": "code",
   "execution_count": 4,
   "id": "ecdaf7a0",
   "metadata": {},
   "outputs": [],
   "source": [
    "data[\"review_date\"] = pd.to_datetime(data[\"review_date\"])"
   ]
  },
  {
   "cell_type": "markdown",
   "id": "a4532a4b",
   "metadata": {},
   "source": [
    "You can refer to the second notebook of this project were we made a second query of the MongoDB, this was the workaround we discuss there. The argument of the to_numeric() pandas method **errors='coerce'** changes values of the first argument that gives ValuerError to na (missing)."
   ]
  },
  {
   "cell_type": "code",
   "execution_count": 5,
   "id": "fc2f9c37",
   "metadata": {},
   "outputs": [],
   "source": [
    "data[\"star_rating\"] = pd.to_numeric(data[\"star_rating\"], errors='coerce') "
   ]
  },
  {
   "cell_type": "markdown",
   "id": "6226da48",
   "metadata": {},
   "source": [
    "Checking the data types again to confirm all changes made is in effect."
   ]
  },
  {
   "cell_type": "code",
   "execution_count": 6,
   "id": "bd5ff8f4",
   "metadata": {},
   "outputs": [
    {
     "data": {
      "text/plain": [
       "_id                           int64\n",
       "marketplace                  object\n",
       "customer_id                   int64\n",
       "review_id                    object\n",
       "product_id                   object\n",
       "product_parent                int64\n",
       "product_title                object\n",
       "product_category             object\n",
       "star_rating                 float64\n",
       "helpful_votes               float64\n",
       "total_votes                 float64\n",
       "vine                         object\n",
       "verified_purchase            object\n",
       "review_headline              object\n",
       "review_body                  object\n",
       "review_date          datetime64[ns]\n",
       "dtype: object"
      ]
     },
     "execution_count": 6,
     "metadata": {},
     "output_type": "execute_result"
    }
   ],
   "source": [
    "data.dtypes"
   ]
  },
  {
   "cell_type": "markdown",
   "id": "378a7a53",
   "metadata": {},
   "source": [
    "All duplicates in our dataframe was dropped. Note that the check on duplicate was on all columns except the **_id**,this is so because when we created our _id column in second jupyter notebook, a requirement of MongoDB was that it values should be unique has it is an idenfier for a document and if we had select the duplicate check on all columns here no record would have been dropped if there were such duplicates. \n",
    "\n",
    "We then also dropped missing values, note that, no form of imputation was done here as most of our columns are text or numbers with redundant computational use, e.g. customer_id which is a number serving as a unique identifier of a particular customer. If we made our imputation based on the mean/median/mode of values of this column we would be introducing error to this dataset by making a new value from the mean/median that may not stand as a customer or assigning a customer to a product he never made a review."
   ]
  },
  {
   "cell_type": "code",
   "execution_count": 7,
   "id": "b8c3c4db",
   "metadata": {},
   "outputs": [],
   "source": [
    "data = data.drop_duplicates(subset=([c for c in data.columns if c!='_id']))"
   ]
  },
  {
   "cell_type": "code",
   "execution_count": 8,
   "id": "23d04edd",
   "metadata": {},
   "outputs": [],
   "source": [
    "data = data.dropna()"
   ]
  },
  {
   "cell_type": "markdown",
   "id": "f3686d50",
   "metadata": {},
   "source": [
    "We created two columns with the codes in the two cells below which would be used for our data visualization."
   ]
  },
  {
   "cell_type": "code",
   "execution_count": 9,
   "id": "5ea0116e",
   "metadata": {},
   "outputs": [],
   "source": [
    "data['review_year'] = pd.DatetimeIndex(data['review_date']).year"
   ]
  },
  {
   "cell_type": "code",
   "execution_count": 10,
   "id": "3f693963",
   "metadata": {},
   "outputs": [],
   "source": [
    "def func(x):\n",
    "    if x > 3:\n",
    "        return 'positive'\n",
    "    elif x < 3:\n",
    "        return 'negative'\n",
    "    else:\n",
    "        return 'neutral'\n",
    "    \n",
    "\n",
    "data[\"rating_class\"] = data[\"star_rating\"].apply(func)"
   ]
  },
  {
   "cell_type": "markdown",
   "id": "cfa6e53a",
   "metadata": {},
   "source": [
    "### Exploratory Data Analysis"
   ]
  },
  {
   "cell_type": "markdown",
   "id": "3379fe69",
   "metadata": {},
   "source": [
    "Below is a code showing the descriptive statistics of numeric columns of our data.\n",
    "\n",
    "Please note that though **_id, customer_id, product_parent, and review_year** have numeric values/ can be seen in there numeric sense (review_year being datetime can also be seen as numeric in pandas/python), their respective descriptive statistics were computed but this computation has no use/meaning as explained earlier."
   ]
  },
  {
   "cell_type": "code",
   "execution_count": 11,
   "id": "7514aaf2",
   "metadata": {},
   "outputs": [
    {
     "data": {
      "text/html": [
       "<div>\n",
       "<style scoped>\n",
       "    .dataframe tbody tr th:only-of-type {\n",
       "        vertical-align: middle;\n",
       "    }\n",
       "\n",
       "    .dataframe tbody tr th {\n",
       "        vertical-align: top;\n",
       "    }\n",
       "\n",
       "    .dataframe thead th {\n",
       "        text-align: right;\n",
       "    }\n",
       "</style>\n",
       "<table border=\"1\" class=\"dataframe\">\n",
       "  <thead>\n",
       "    <tr style=\"text-align: right;\">\n",
       "      <th></th>\n",
       "      <th>_id</th>\n",
       "      <th>customer_id</th>\n",
       "      <th>product_parent</th>\n",
       "      <th>star_rating</th>\n",
       "      <th>helpful_votes</th>\n",
       "      <th>total_votes</th>\n",
       "      <th>review_year</th>\n",
       "    </tr>\n",
       "  </thead>\n",
       "  <tbody>\n",
       "    <tr>\n",
       "      <th>count</th>\n",
       "      <td>7.479937e+06</td>\n",
       "      <td>7.479937e+06</td>\n",
       "      <td>7.479937e+06</td>\n",
       "      <td>7.479937e+06</td>\n",
       "      <td>7.479937e+06</td>\n",
       "      <td>7.479937e+06</td>\n",
       "      <td>7.479937e+06</td>\n",
       "    </tr>\n",
       "    <tr>\n",
       "      <th>mean</th>\n",
       "      <td>3.740281e+06</td>\n",
       "      <td>2.856142e+07</td>\n",
       "      <td>5.037022e+08</td>\n",
       "      <td>4.078229e+00</td>\n",
       "      <td>1.820961e+00</td>\n",
       "      <td>2.251223e+00</td>\n",
       "      <td>2.013012e+03</td>\n",
       "    </tr>\n",
       "    <tr>\n",
       "      <th>std</th>\n",
       "      <td>2.159390e+06</td>\n",
       "      <td>1.530187e+07</td>\n",
       "      <td>2.883961e+08</td>\n",
       "      <td>1.364085e+00</td>\n",
       "      <td>2.687860e+01</td>\n",
       "      <td>2.790602e+01</td>\n",
       "      <td>2.432249e+00</td>\n",
       "    </tr>\n",
       "    <tr>\n",
       "      <th>min</th>\n",
       "      <td>1.000000e+00</td>\n",
       "      <td>1.000500e+04</td>\n",
       "      <td>8.550000e+02</td>\n",
       "      <td>1.000000e+00</td>\n",
       "      <td>0.000000e+00</td>\n",
       "      <td>0.000000e+00</td>\n",
       "      <td>1.998000e+03</td>\n",
       "    </tr>\n",
       "    <tr>\n",
       "      <th>25%</th>\n",
       "      <td>1.870199e+06</td>\n",
       "      <td>1.499013e+07</td>\n",
       "      <td>2.519437e+08</td>\n",
       "      <td>4.000000e+00</td>\n",
       "      <td>0.000000e+00</td>\n",
       "      <td>0.000000e+00</td>\n",
       "      <td>2.012000e+03</td>\n",
       "    </tr>\n",
       "    <tr>\n",
       "      <th>50%</th>\n",
       "      <td>3.740284e+06</td>\n",
       "      <td>2.768799e+07</td>\n",
       "      <td>5.038381e+08</td>\n",
       "      <td>5.000000e+00</td>\n",
       "      <td>0.000000e+00</td>\n",
       "      <td>0.000000e+00</td>\n",
       "      <td>2.014000e+03</td>\n",
       "    </tr>\n",
       "    <tr>\n",
       "      <th>75%</th>\n",
       "      <td>5.610385e+06</td>\n",
       "      <td>4.288564e+07</td>\n",
       "      <td>7.553946e+08</td>\n",
       "      <td>5.000000e+00</td>\n",
       "      <td>1.000000e+00</td>\n",
       "      <td>1.000000e+00</td>\n",
       "      <td>2.015000e+03</td>\n",
       "    </tr>\n",
       "    <tr>\n",
       "      <th>max</th>\n",
       "      <td>7.480426e+06</td>\n",
       "      <td>5.309658e+07</td>\n",
       "      <td>9.999982e+08</td>\n",
       "      <td>5.000000e+00</td>\n",
       "      <td>4.139300e+04</td>\n",
       "      <td>4.186600e+04</td>\n",
       "      <td>2.015000e+03</td>\n",
       "    </tr>\n",
       "  </tbody>\n",
       "</table>\n",
       "</div>"
      ],
      "text/plain": [
       "                _id   customer_id  product_parent   star_rating  \\\n",
       "count  7.479937e+06  7.479937e+06    7.479937e+06  7.479937e+06   \n",
       "mean   3.740281e+06  2.856142e+07    5.037022e+08  4.078229e+00   \n",
       "std    2.159390e+06  1.530187e+07    2.883961e+08  1.364085e+00   \n",
       "min    1.000000e+00  1.000500e+04    8.550000e+02  1.000000e+00   \n",
       "25%    1.870199e+06  1.499013e+07    2.519437e+08  4.000000e+00   \n",
       "50%    3.740284e+06  2.768799e+07    5.038381e+08  5.000000e+00   \n",
       "75%    5.610385e+06  4.288564e+07    7.553946e+08  5.000000e+00   \n",
       "max    7.480426e+06  5.309658e+07    9.999982e+08  5.000000e+00   \n",
       "\n",
       "       helpful_votes   total_votes   review_year  \n",
       "count   7.479937e+06  7.479937e+06  7.479937e+06  \n",
       "mean    1.820961e+00  2.251223e+00  2.013012e+03  \n",
       "std     2.687860e+01  2.790602e+01  2.432249e+00  \n",
       "min     0.000000e+00  0.000000e+00  1.998000e+03  \n",
       "25%     0.000000e+00  0.000000e+00  2.012000e+03  \n",
       "50%     0.000000e+00  0.000000e+00  2.014000e+03  \n",
       "75%     1.000000e+00  1.000000e+00  2.015000e+03  \n",
       "max     4.139300e+04  4.186600e+04  2.015000e+03  "
      ]
     },
     "execution_count": 11,
     "metadata": {},
     "output_type": "execute_result"
    }
   ],
   "source": [
    "data.describe()"
   ]
  },
  {
   "cell_type": "markdown",
   "id": "b6b818af",
   "metadata": {},
   "source": [
    "Some variables were created below using the groupby() method with some summary/aggregation, each variables respective result is shown below and they are use in our data visualization"
   ]
  },
  {
   "cell_type": "code",
   "execution_count": 12,
   "id": "cecffe19",
   "metadata": {},
   "outputs": [],
   "source": [
    "G1 = data['star_rating'].groupby([data['product_category'], data['review_year']]).mean()\n",
    "G2 = data['star_rating'].groupby(data['review_year']).mean()\n",
    "G3 = data['star_rating'].groupby(data['product_category']).mean()\n",
    "G4 = data['rating_class'].groupby([data['product_category'], data['rating_class']]).count()"
   ]
  },
  {
   "cell_type": "code",
   "execution_count": 13,
   "id": "6a2e5e9f",
   "metadata": {},
   "outputs": [
    {
     "data": {
      "text/plain": [
       "product_category  review_year\n",
       "Baby              1999           4.553571\n",
       "                  2000           4.369099\n",
       "                  2001           3.902136\n",
       "                  2002           3.690339\n",
       "                  2003           3.726006\n",
       "                  2004           3.728220\n",
       "                  2005           3.818758\n",
       "                  2006           3.879343\n",
       "                  2007           4.050194\n",
       "                  2008           4.101092\n",
       "                  2009           4.057668\n",
       "                  2010           4.024324\n",
       "                  2011           4.017681\n",
       "                  2012           4.071620\n",
       "                  2013           4.192108\n",
       "                  2014           4.204380\n",
       "                  2015           4.244110\n",
       "Electronics       1999           3.904422\n",
       "                  2000           3.965114\n",
       "                  2001           3.744025\n",
       "                  2002           3.620401\n",
       "                  2003           3.611213\n",
       "                  2004           3.527778\n",
       "                  2005           3.640860\n",
       "                  2006           3.700189\n",
       "                  2007           3.937945\n",
       "                  2008           3.928368\n",
       "                  2009           3.920870\n",
       "                  2010           3.896272\n",
       "                  2011           3.911931\n",
       "                  2012           3.979285\n",
       "                  2013           4.060273\n",
       "                  2014           4.082680\n",
       "                  2015           4.109085\n",
       "Office Products   1998           4.500000\n",
       "                  1999           3.885154\n",
       "                  2000           3.805958\n",
       "                  2001           3.587900\n",
       "                  2002           3.491682\n",
       "                  2003           3.420363\n",
       "                  2004           3.306933\n",
       "                  2005           3.421638\n",
       "                  2006           3.542686\n",
       "                  2007           3.851549\n",
       "                  2008           3.805401\n",
       "                  2009           3.792056\n",
       "                  2010           3.816705\n",
       "                  2011           3.815748\n",
       "                  2012           3.877582\n",
       "                  2013           4.043002\n",
       "                  2014           4.144470\n",
       "                  2015           4.210542\n",
       "Name: star_rating, dtype: float64"
      ]
     },
     "execution_count": 13,
     "metadata": {},
     "output_type": "execute_result"
    }
   ],
   "source": [
    "G1"
   ]
  },
  {
   "cell_type": "code",
   "execution_count": 14,
   "id": "e44d5877",
   "metadata": {},
   "outputs": [
    {
     "data": {
      "text/plain": [
       "review_year\n",
       "1998    4.500000\n",
       "1999    3.943026\n",
       "2000    3.891696\n",
       "2001    3.689254\n",
       "2002    3.592541\n",
       "2003    3.591268\n",
       "2004    3.560188\n",
       "2005    3.662405\n",
       "2006    3.706104\n",
       "2007    3.935603\n",
       "2008    3.933324\n",
       "2009    3.913774\n",
       "2010    3.902296\n",
       "2011    3.910255\n",
       "2012    3.967755\n",
       "2013    4.085282\n",
       "2014    4.133498\n",
       "2015    4.179829\n",
       "Name: star_rating, dtype: float64"
      ]
     },
     "execution_count": 14,
     "metadata": {},
     "output_type": "execute_result"
    }
   ],
   "source": [
    "G2"
   ]
  },
  {
   "cell_type": "code",
   "execution_count": 15,
   "id": "fc5f8340",
   "metadata": {},
   "outputs": [
    {
     "data": {
      "text/plain": [
       "product_category\n",
       "Baby               4.162525\n",
       "Electronics        4.035425\n",
       "Office Products    4.072499\n",
       "Name: star_rating, dtype: float64"
      ]
     },
     "execution_count": 15,
     "metadata": {},
     "output_type": "execute_result"
    }
   ],
   "source": [
    "G3"
   ]
  },
  {
   "cell_type": "code",
   "execution_count": 16,
   "id": "c7a27a48",
   "metadata": {},
   "outputs": [
    {
     "data": {
      "text/plain": [
       "product_category  rating_class\n",
       "Baby              negative         244872\n",
       "                  neutral          149579\n",
       "                  positive        1354497\n",
       "Electronics       negative         536815\n",
       "                  neutral          238376\n",
       "                  positive        2315686\n",
       "Office Products   negative         445344\n",
       "                  neutral          193680\n",
       "                  positive        2001088\n",
       "Name: rating_class, dtype: int64"
      ]
     },
     "execution_count": 16,
     "metadata": {},
     "output_type": "execute_result"
    }
   ],
   "source": [
    "G4"
   ]
  },
  {
   "cell_type": "code",
   "execution_count": 17,
   "id": "16117909",
   "metadata": {},
   "outputs": [
    {
     "data": {
      "image/png": "[encoded data removed]",
      "text/plain": [
       "<Figure size 216x216 with 1 Axes>"
      ]
     },
     "metadata": {
      "needs_background": "light"
     },
     "output_type": "display_data"
    }
   ],
   "source": [
    "G1.unstack(0)['Baby'].plot(title=\"Average star_rating for baby's product category\", figsize=(3, 3))\n",
    "plt.legend(loc='upper right')\n",
    "plt.show()"
   ]
  },
  {
   "cell_type": "markdown",
   "id": "472a2094",
   "metadata": {},
   "source": [
    "From the graph above we see that the average star_rating for baby's product was at its highest in 1999 and lowest in 2002 with its value picking steading after 2002."
   ]
  },
  {
   "cell_type": "code",
   "execution_count": 18,
   "id": "244e5aa0",
   "metadata": {},
   "outputs": [
    {
     "data": {
      "image/png": "[encoded data removed]",
      "text/plain": [
       "<Figure size 216x216 with 1 Axes>"
      ]
     },
     "metadata": {
      "needs_background": "light"
     },
     "output_type": "display_data"
    }
   ],
   "source": [
    "G1.unstack(0)['Electronics'].plot(title=\"Average star_rating for electronics product category\", figsize=(3, 3))\n",
    "plt.legend(loc='upper right')\n",
    "plt.show()"
   ]
  },
  {
   "cell_type": "markdown",
   "id": "f713b7bf",
   "metadata": {},
   "source": [
    "From the graph above we see that the average star_rating for electronic's product was at its highest in 2000 and lowest in 2004 with its value picking steading after 2004"
   ]
  },
  {
   "cell_type": "code",
   "execution_count": 19,
   "id": "77d99aac",
   "metadata": {},
   "outputs": [
    {
     "data": {
      "image/png": "[encoded data removed]",
      "text/plain": [
       "<Figure size 216x216 with 1 Axes>"
      ]
     },
     "metadata": {
      "needs_background": "light"
     },
     "output_type": "display_data"
    }
   ],
   "source": [
    "G1.unstack(0)['Office Products'].plot(title=\"Average star_rating for office's product category\", figsize=(3, 3))\n",
    "plt.legend(loc='upper right')\n",
    "plt.show()"
   ]
  },
  {
   "cell_type": "markdown",
   "id": "fdfe6206",
   "metadata": {},
   "source": [
    "From the graph above we see that the average star_rating for office's product was at its highest in 1998 and lowest in 2004 with its value picking steading after 2004"
   ]
  },
  {
   "cell_type": "code",
   "execution_count": 20,
   "id": "37becee4",
   "metadata": {},
   "outputs": [
    {
     "data": {
      "text/plain": [
       "<AxesSubplot:title={'center':'Average Star rating from 1998 to 2015'}, xlabel='review_year'>"
      ]
     },
     "execution_count": 20,
     "metadata": {},
     "output_type": "execute_result"
    },
    {
     "data": {
      "image/png": "[encoded data removed]",
      "text/plain": [
       "<Figure size 504x504 with 1 Axes>"
      ]
     },
     "metadata": {
      "needs_background": "light"
     },
     "output_type": "display_data"
    }
   ],
   "source": [
    "G2.plot.line(title='Average Star rating from 1998 to 2015',figsize=(7,7))"
   ]
  },
  {
   "cell_type": "markdown",
   "id": "09703708",
   "metadata": {},
   "source": [
    "From the graph above we see that the average star_rating for these three product category in general was at its highest in 1998 and lowest in 2004 with its value picking steading after 2004"
   ]
  },
  {
   "cell_type": "code",
   "execution_count": 21,
   "id": "cb38e256",
   "metadata": {},
   "outputs": [
    {
     "data": {
      "text/plain": [
       "<AxesSubplot:title={'center':'Product Rating class'}, ylabel='product_category'>"
      ]
     },
     "execution_count": 21,
     "metadata": {},
     "output_type": "execute_result"
    },
    {
     "data": {
      "image/png": "[encoded data removed]",
      "text/plain": [
       "<Figure size 720x720 with 1 Axes>"
      ]
     },
     "metadata": {
      "needs_background": "light"
     },
     "output_type": "display_data"
    }
   ],
   "source": [
    "G4.unstack('rating_class').plot(title='Product Rating class',kind='barh', stacked=False, figsize=(10,10))"
   ]
  },
  {
   "cell_type": "markdown",
   "id": "6871843a",
   "metadata": {},
   "source": [
    "From the graph above we see that the Electronics had the highest count of positive rating (sar_rating > 3) compared to the other category and baby's product had the lowest count of positive rating."
   ]
  },
  {
   "cell_type": "code",
   "execution_count": 22,
   "id": "128e1c79",
   "metadata": {},
   "outputs": [],
   "source": [
    "G5 = data['rating_class'].groupby(data['rating_class']).count()"
   ]
  },
  {
   "cell_type": "code",
   "execution_count": 23,
   "id": "8821f3a9",
   "metadata": {},
   "outputs": [
    {
     "data": {
      "text/plain": [
       "rating_class\n",
       "negative    1227031\n",
       "neutral      581635\n",
       "positive    5671271\n",
       "Name: rating_class, dtype: int64"
      ]
     },
     "execution_count": 23,
     "metadata": {},
     "output_type": "execute_result"
    }
   ],
   "source": [
    "G5"
   ]
  },
  {
   "cell_type": "code",
   "execution_count": 24,
   "id": "43492a78",
   "metadata": {},
   "outputs": [
    {
     "data": {
      "text/plain": [
       "<AxesSubplot:title={'center':'Average Star rating from 1998 to 2015'}>"
      ]
     },
     "execution_count": 24,
     "metadata": {},
     "output_type": "execute_result"
    },
    {
     "data": {
      "image/png": "[encoded data removed]",
      "text/plain": [
       "<Figure size 504x504 with 1 Axes>"
      ]
     },
     "metadata": {},
     "output_type": "display_data"
    }
   ],
   "source": [
    "G5.plot.pie(title='Average Star rating from 1998 to 2015',figsize=(7,7), ylabel='', legend=True)"
   ]
  },
  {
   "cell_type": "markdown",
   "id": "321b37cc",
   "metadata": {},
   "source": [
    "We also considered the rating class for the three products and the count for each of its respective levels (positive: star_rating > 3, neutral: star_rating = 3, negative: star_rating < 3).\n",
    "\n",
    "From the pie chart above we see that the count of positive rating is overwhelming compared to other levels which is good."
   ]
  },
  {
   "cell_type": "markdown",
   "id": "457366c2",
   "metadata": {},
   "source": [
    "### Sentiment Analysis using Logistic regression"
   ]
  },
  {
   "cell_type": "markdown",
   "id": "be5c0c0b",
   "metadata": {},
   "source": [
    "Our goal was to determine if a particular review of a product left by a customer determines if a positive or negative rating would be given for that product.\n",
    "\n",
    "So our focus were on two columns review_body (this column contains a particular review of a product left by a customer) and star_rating (the rating of that product given by that customer).\n",
    "\n",
    "We would be using **sklearn** has the module for our model and since we are dealing with text as our input variable (review_body) this had to be converted to a form of numeric value as most machine learning models deal with numbers.\n",
    "\n",
    "For our text column (review_body), there were three things we wanted to consider: **Tokenization, Stemming, and Lemmatization**, we later only considered tokenization because of the complexity when considering stemming (the process of chopping of words in several forms so as to get it base form e.g run, running when stemming is done should give run so if there is an occurrence of any three of these words it would not be counted as three words but just one word) and lemmatization (the process of converting any form of a work to its origin/ base form e.g ring, rang, rung, ringing all have a lemma ring). We avoided this because we had a very large volume of data which we ran on our local pc and we wanted to reduce the likelihood of improper stemming or lemmatiation that could arise to not to straight forward words.\n",
    "\n",
    "Tokenization which we only considered is were a phrase, clause, sentence (or in generally running words in a text) is broken to the individual words making this text.\n",
    "\n",
    "For this to happen, we removed punctuation from the review_body column and assign it to a new column called review_body_clean, we filtered out all records that that a star_rating = 3 as this were the products with neutral rating and for the target variable, we created a new variable called **label** which gives a value of +1 to values of star_rating > 3 and -1 to values of star_rating < 3.\n",
    "\n",
    "Cells with the codes for the above is shown below."
   ]
  },
  {
   "cell_type": "code",
   "execution_count": 25,
   "id": "669b6382",
   "metadata": {},
   "outputs": [],
   "source": [
    "def remove_punc(string):\n",
    "    punc = '''!()-[]{};:'\"\\,<>./?@#$%^&*_~'''\n",
    "    for a in string:\n",
    "        if a in punc:\n",
    "            string = string.replace(a, \"\")\n",
    "    return string\n",
    "\n",
    "data['review_body_clean'] = data[\"review_body\"].apply(remove_punc)"
   ]
  },
  {
   "cell_type": "code",
   "execution_count": 26,
   "id": "2e206454",
   "metadata": {},
   "outputs": [],
   "source": [
    "data = data[data['star_rating'] != 3]"
   ]
  },
  {
   "cell_type": "code",
   "execution_count": 27,
   "id": "088a91d1",
   "metadata": {},
   "outputs": [],
   "source": [
    "def func1(x):\n",
    "    if x > 3:\n",
    "        return +1\n",
    "    else:\n",
    "        return -1\n",
    "data['label'] = data[\"star_rating\"].apply(func1)"
   ]
  },
  {
   "cell_type": "markdown",
   "id": "24181faa",
   "metadata": {},
   "source": [
    "Because of the sheer volume of our data, we kept getting a MemoryError when we used the full data set in the model, so we worked with a random sample of size 50,000 from our data which we called sdata."
   ]
  },
  {
   "cell_type": "code",
   "execution_count": 28,
   "id": "44660c43",
   "metadata": {},
   "outputs": [],
   "source": [
    "sdata = data.sample(n=50000, random_state=1)"
   ]
  },
  {
   "cell_type": "code",
   "execution_count": 29,
   "id": "9e1fea62",
   "metadata": {},
   "outputs": [
    {
     "name": "stdout",
     "output_type": "stream",
     "text": [
      "Requirement already satisfied: sklearn in c:\\users\\eemer\\anaconda3\\lib\\site-packages (0.0)\n",
      "Requirement already satisfied: scikit-learn in c:\\users\\eemer\\anaconda3\\lib\\site-packages (from sklearn) (1.0.1)\n",
      "Requirement already satisfied: numpy>=1.14.6 in c:\\users\\eemer\\anaconda3\\lib\\site-packages (from scikit-learn->sklearn) (1.21.2)\n",
      "Requirement already satisfied: scipy>=1.1.0 in c:\\users\\eemer\\anaconda3\\lib\\site-packages (from scikit-learn->sklearn) (1.7.1)\n",
      "Requirement already satisfied: threadpoolctl>=2.0.0 in c:\\users\\eemer\\anaconda3\\lib\\site-packages (from scikit-learn->sklearn) (2.2.0)\n",
      "Requirement already satisfied: joblib>=0.11 in c:\\users\\eemer\\anaconda3\\lib\\site-packages (from scikit-learn->sklearn) (1.0.1)\n"
     ]
    }
   ],
   "source": [
    "!pip install sklearn"
   ]
  },
  {
   "cell_type": "code",
   "execution_count": 30,
   "id": "fa563e7c",
   "metadata": {},
   "outputs": [],
   "source": [
    "from sklearn.model_selection import train_test_split\n",
    "\n",
    "X = pd.DataFrame(sdata, columns = ['review_body_clean'])\n",
    "y = pd.DataFrame(sdata, columns = ['label'])\n",
    "\n",
    "train_X, test_X, train_y, test_y = train_test_split(X, y, random_state=50)"
   ]
  },
  {
   "cell_type": "markdown",
   "id": "c1e8e0fb",
   "metadata": {},
   "source": [
    "We used the Bag of words model for our text vectorization. You can see this has a bag that has all the unique words and their count that exist in a text (in this case the column review_body_clean).\n",
    "\n",
    "The vectorization (encoding to convert text to numbers) of the text input variable considered in sklean was CountVectorizer and by default it first converts a text to lowercase, the token_pattern we looked at was **r'\\b\\w+\\b'** which looked at each word in each product review as a token. See code below."
   ]
  },
  {
   "cell_type": "code",
   "execution_count": 31,
   "id": "671dd56a",
   "metadata": {},
   "outputs": [],
   "source": [
    "from sklearn.feature_extraction.text import CountVectorizer\n",
    "\n",
    "cv = CountVectorizer(token_pattern=r'\\b\\w+\\b')\n",
    "train_v = cv.fit_transform(train_X['review_body_clean'])\n",
    "test_v = cv.transform(test_X['review_body_clean'])"
   ]
  },
  {
   "cell_type": "markdown",
   "id": "0e90d5bb",
   "metadata": {},
   "source": [
    "We then ran the model and scored it, we got a warning that the default maximum iteration which is 100 for the model has been reached so computations were stopped and the solution does not converge, so solve this we increase the maximum iteration to 1000, which is shown below."
   ]
  },
  {
   "cell_type": "code",
   "execution_count": 33,
   "id": "5ad07715",
   "metadata": {
    "scrolled": true
   },
   "outputs": [
    {
     "name": "stderr",
     "output_type": "stream",
     "text": [
      "C:\\Users\\eemer\\anaconda3\\lib\\site-packages\\sklearn\\linear_model\\_logistic.py:814: ConvergenceWarning: lbfgs failed to converge (status=1):\n",
      "STOP: TOTAL NO. of ITERATIONS REACHED LIMIT.\n",
      "\n",
      "Increase the number of iterations (max_iter) or scale the data as shown in:\n",
      "    https://scikit-learn.org/stable/modules/preprocessing.html\n",
      "Please also refer to the documentation for alternative solver options:\n",
      "    https://scikit-learn.org/stable/modules/linear_model.html#logistic-regression\n",
      "  n_iter_i = _check_optimize_result(\n"
     ]
    },
    {
     "data": {
      "text/plain": [
       "0.91696"
      ]
     },
     "execution_count": 33,
     "metadata": {},
     "output_type": "execute_result"
    }
   ],
   "source": [
    "from sklearn.linear_model import LogisticRegression\n",
    "\n",
    "lreg = LogisticRegression()\n",
    "lreg.fit(train_v, train_y.values.ravel())\n",
    "scores = lreg.score(test_v, test_y)\n",
    "scores"
   ]
  },
  {
   "cell_type": "code",
   "execution_count": 35,
   "id": "2aab6c26",
   "metadata": {},
   "outputs": [
    {
     "data": {
      "text/plain": [
       "0.91872"
      ]
     },
     "execution_count": 35,
     "metadata": {},
     "output_type": "execute_result"
    }
   ],
   "source": [
    "lreg1 = LogisticRegression(solver='lbfgs', max_iter=1000)\n",
    "lreg1.fit(train_v, train_y.values.ravel())\n",
    "scores1 = lreg1.score(test_v, test_y)\n",
    "scores1"
   ]
  },
  {
   "cell_type": "markdown",
   "id": "21d2ceee",
   "metadata": {},
   "source": [
    "From the score above, it shows that the prediction of the rating (label) from the model built on the 50,000 sample is very high, meaning that the review left by a customer is really useful in prediction the star rating class that would be given for that product."
   ]
  },
  {
   "cell_type": "markdown",
   "id": "e219e750",
   "metadata": {},
   "source": [
    "### References"
   ]
  },
  {
   "cell_type": "markdown",
   "id": "546edba3",
   "metadata": {},
   "source": [
    "1. ITC 686 course materials: https://blackboard.cmich.edu/ultra/courses/_202035_1/cl/outline\n",
    "\n",
    "2. https://www.kaggle.com/cynthiarempel/amazon-us-customer-reviews-dataset?select=amazon_reviews_us_Baby_v1_00.tsv\n",
    "\n",
    "3. https://www.kaggle.com/cynthiarempel/amazon-us-customer-reviews-dataset?select=amazon_reviews_us_Electronics_v1_00.tsv\n",
    "\n",
    "4. https://www.kaggle.com/cynthiarempel/amazon-us-customer-reviews-dataset?select=amazon_reviews_us_Office_Products_v1_00.tsv\n",
    "\n",
    "5. https://www.kaggle.com/datasets/cynthiarempel/amazon-us-customer-reviews-dataset?select=amazon_reviews_us_Toys_v1_00.tsv\n",
    "\n",
    "6. https://towardsdatascience.com/sentiment-analysis-using-logistic-regression-and-naive-bayes-16b806eb4c4b\n",
    "\n",
    "7. https://medium.com/@qempsil0914/machine-learning-nlp-text-classification-with-amazon-review-data-using-python3-step-by-step-3fb0cc0cecc1\n",
    "\n",
    "8. https://pymongo.readthedocs.io/en/latest/tutorial.html#querying-for-more-than-one-document\n",
    "\n",
    "9. https://kavita-ganesan.com/how-to-use-countvectorizer/#.Ymu6S9rMJaZ"
   ]
  }
 ],
 "metadata": {
  "kernelspec": {
   "display_name": "Python 3 (ipykernel)",
   "language": "python",
   "name": "python3"
  },
  "language_info": {
   "codemirror_mode": {
    "name": "ipython",
    "version": 3
   },
   "file_extension": ".py",
   "mimetype": "text/x-python",
   "name": "python",
   "nbconvert_exporter": "python",
   "pygments_lexer": "ipython3",
   "version": "3.8.8"
  }
 },
 "nbformat": 4,
 "nbformat_minor": 5
}
