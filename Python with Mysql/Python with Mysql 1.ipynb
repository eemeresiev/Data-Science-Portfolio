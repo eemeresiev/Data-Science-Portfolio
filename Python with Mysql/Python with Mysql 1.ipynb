{
 "cells": [
  {
   "cell_type": "markdown",
   "metadata": {},
   "source": [
    "# Python with Mysql 1"
   ]
  },
  {
   "cell_type": "markdown",
   "metadata": {},
   "source": [
    "This jupyter notebook, connects to a mysql server running on a location machine using the mysql.connector driver, connects with already created databases, creates a table, inserted records into this table using pandas and a CSV file gotten from **kaggle**, perform some queries, and some aggreagate functions.\n",
    "\n",
    "**Note:** The csv I read in is also in the **data** folder, so you can use it to replicate this notebook if needed (just change the necessary part)"
   ]
  },
  {
   "cell_type": "code",
   "execution_count": 1,
   "metadata": {},
   "outputs": [],
   "source": [
    "import mysql.connector\n",
    "import pandas as pd\n",
    "import numpy as np"
   ]
  },
  {
   "cell_type": "markdown",
   "metadata": {},
   "source": [
    "#### Creating a connection to Mysql"
   ]
  },
  {
   "cell_type": "code",
   "execution_count": 2,
   "metadata": {},
   "outputs": [
    {
     "name": "stdout",
     "output_type": "stream",
     "text": [
      "<mysql.connector.connection_cext.CMySQLConnection object at 0x000001F3543DFD30>\n"
     ]
    }
   ],
   "source": [
    "conn = mysql.connector.connect(\n",
    "  host=\"localhost\",\n",
    "  user=\"root\",\n",
    "  password=\"Esiev@25\"\n",
    ")\n",
    "\n",
    "print(conn)"
   ]
  },
  {
   "cell_type": "markdown",
   "metadata": {},
   "source": [
    "#### Getting all databases inthe connection"
   ]
  },
  {
   "cell_type": "code",
   "execution_count": 3,
   "metadata": {},
   "outputs": [
    {
     "name": "stdout",
     "output_type": "stream",
     "text": [
      "('information_schema',)\n",
      "('mydb',)\n",
      "('mysql',)\n",
      "('performance_schema',)\n",
      "('sakila',)\n",
      "('sys',)\n",
      "('world',)\n"
     ]
    }
   ],
   "source": [
    "mycursor = conn.cursor()\n",
    "\n",
    "mycursor.execute(\"SHOW DATABASES\")\n",
    "\n",
    "for x in mycursor:\n",
    "    print(x)"
   ]
  },
  {
   "cell_type": "markdown",
   "metadata": {},
   "source": [
    "#### Connecting to a particular mysql database \"mydb\""
   ]
  },
  {
   "cell_type": "code",
   "execution_count": 4,
   "metadata": {},
   "outputs": [],
   "source": [
    "conn1 = mysql.connector.connect(\n",
    "  host=\"localhost\",\n",
    "  user=\"root\",\n",
    "  password=\"Esiev@25\",\n",
    "  database = \"mydb\"\n",
    ")"
   ]
  },
  {
   "cell_type": "markdown",
   "metadata": {},
   "source": [
    "#### Creating a table in the database \"mydb\""
   ]
  },
  {
   "cell_type": "markdown",
   "metadata": {},
   "source": [
    "The code cell is necessary in case we want to rerun this jupyter notebook at a later time."
   ]
  },
  {
   "cell_type": "code",
   "execution_count": 5,
   "metadata": {},
   "outputs": [],
   "source": [
    "mycursor1 = conn1.cursor()\n",
    "\n",
    "mycursor1.execute(\"DROP TABLE imdbtop250\")"
   ]
  },
  {
   "cell_type": "code",
   "execution_count": 6,
   "metadata": {},
   "outputs": [],
   "source": [
    "mycursor1 = conn1.cursor()\n",
    "\n",
    "mycursor1.execute(\"CREATE TABLE imdbtop250(Ranking int, IMDByear varchar(255), IMDBlink varchar(255), Title varchar(255), Date varchar(255), RunTime int, Genre varchar(255), Rating double, Score int, Votes int, Gross double, Director varchar(255), Cast1 varchar(255), Cast2 varchar(255), Cast3 varchar(255), Cast4 varchar(255))\")"
   ]
  },
  {
   "cell_type": "markdown",
   "metadata": {},
   "source": [
    "#### Returning a list of tables in mydb"
   ]
  },
  {
   "cell_type": "code",
   "execution_count": 7,
   "metadata": {},
   "outputs": [
    {
     "name": "stdout",
     "output_type": "stream",
     "text": [
      "('airbnb_nyc',)\n",
      "('imdbtop250',)\n"
     ]
    }
   ],
   "source": [
    "mycursor1.execute(\"SHOW TABLES\")\n",
    "for x in mycursor1:\n",
    "    print(x)"
   ]
  },
  {
   "cell_type": "markdown",
   "metadata": {},
   "source": [
    "#### Inserting records from a csv file into the imdb250 table"
   ]
  },
  {
   "cell_type": "code",
   "execution_count": 8,
   "metadata": {},
   "outputs": [
    {
     "data": {
      "text/html": [
       "<div>\n",
       "<style scoped>\n",
       "    .dataframe tbody tr th:only-of-type {\n",
       "        vertical-align: middle;\n",
       "    }\n",
       "\n",
       "    .dataframe tbody tr th {\n",
       "        vertical-align: top;\n",
       "    }\n",
       "\n",
       "    .dataframe thead th {\n",
       "        text-align: right;\n",
       "    }\n",
       "</style>\n",
       "<table border=\"1\" class=\"dataframe\">\n",
       "  <thead>\n",
       "    <tr style=\"text-align: right;\">\n",
       "      <th></th>\n",
       "      <th>Ranking</th>\n",
       "      <th>IMDByear</th>\n",
       "      <th>IMDBlink</th>\n",
       "      <th>Title</th>\n",
       "      <th>Date</th>\n",
       "      <th>RunTime</th>\n",
       "      <th>Genre</th>\n",
       "      <th>Rating</th>\n",
       "      <th>Score</th>\n",
       "      <th>Votes</th>\n",
       "      <th>Gross</th>\n",
       "      <th>Director</th>\n",
       "      <th>Cast1</th>\n",
       "      <th>Cast2</th>\n",
       "      <th>Cast3</th>\n",
       "      <th>Cast4</th>\n",
       "    </tr>\n",
       "  </thead>\n",
       "  <tbody>\n",
       "    <tr>\n",
       "      <th>0</th>\n",
       "      <td>1</td>\n",
       "      <td>1996</td>\n",
       "      <td>/title/tt0076759/</td>\n",
       "      <td>Star Wars: Episode IV - A New Hope</td>\n",
       "      <td>1977</td>\n",
       "      <td>121</td>\n",
       "      <td>Action, Adventure, Fantasy</td>\n",
       "      <td>8.6</td>\n",
       "      <td>90.0</td>\n",
       "      <td>1299781</td>\n",
       "      <td>322.74</td>\n",
       "      <td>George Lucas</td>\n",
       "      <td>Mark Hamill</td>\n",
       "      <td>Harrison Ford</td>\n",
       "      <td>Carrie Fisher</td>\n",
       "      <td>Alec Guinness</td>\n",
       "    </tr>\n",
       "    <tr>\n",
       "      <th>1</th>\n",
       "      <td>2</td>\n",
       "      <td>1996</td>\n",
       "      <td>/title/tt0111161/</td>\n",
       "      <td>The Shawshank Redemption</td>\n",
       "      <td>1994</td>\n",
       "      <td>142</td>\n",
       "      <td>Drama</td>\n",
       "      <td>9.3</td>\n",
       "      <td>80.0</td>\n",
       "      <td>2529673</td>\n",
       "      <td>28.34</td>\n",
       "      <td>Frank Darabont</td>\n",
       "      <td>Tim Robbins</td>\n",
       "      <td>Morgan Freeman</td>\n",
       "      <td>Bob Gunton</td>\n",
       "      <td>William Sadler</td>\n",
       "    </tr>\n",
       "    <tr>\n",
       "      <th>2</th>\n",
       "      <td>3</td>\n",
       "      <td>1996</td>\n",
       "      <td>/title/tt0117951/</td>\n",
       "      <td>Trainspotting</td>\n",
       "      <td>1996</td>\n",
       "      <td>93</td>\n",
       "      <td>Drama</td>\n",
       "      <td>8.1</td>\n",
       "      <td>83.0</td>\n",
       "      <td>665213</td>\n",
       "      <td>16.50</td>\n",
       "      <td>Danny Boyle</td>\n",
       "      <td>Ewan McGregor</td>\n",
       "      <td>Ewen Bremner</td>\n",
       "      <td>Jonny Lee Miller</td>\n",
       "      <td>Kevin McKidd</td>\n",
       "    </tr>\n",
       "    <tr>\n",
       "      <th>3</th>\n",
       "      <td>4</td>\n",
       "      <td>1996</td>\n",
       "      <td>/title/tt0114814/</td>\n",
       "      <td>The Usual Suspects</td>\n",
       "      <td>1995</td>\n",
       "      <td>106</td>\n",
       "      <td>Crime, Drama, Mystery</td>\n",
       "      <td>8.5</td>\n",
       "      <td>77.0</td>\n",
       "      <td>1045626</td>\n",
       "      <td>23.34</td>\n",
       "      <td>Bryan Singer</td>\n",
       "      <td>Kevin Spacey</td>\n",
       "      <td>Gabriel Byrne</td>\n",
       "      <td>Chazz Palminteri</td>\n",
       "      <td>Stephen Baldwin</td>\n",
       "    </tr>\n",
       "    <tr>\n",
       "      <th>4</th>\n",
       "      <td>5</td>\n",
       "      <td>1996</td>\n",
       "      <td>/title/tt0108598/</td>\n",
       "      <td>The Wrong Trousers</td>\n",
       "      <td>1993</td>\n",
       "      <td>30</td>\n",
       "      <td>Animation, Short, Comedy</td>\n",
       "      <td>8.3</td>\n",
       "      <td>NaN</td>\n",
       "      <td>53316</td>\n",
       "      <td>NaN</td>\n",
       "      <td>Nick Park</td>\n",
       "      <td>Peter Sallis</td>\n",
       "      <td>Peter Hawkins</td>\n",
       "      <td>NaN</td>\n",
       "      <td>NaN</td>\n",
       "    </tr>\n",
       "  </tbody>\n",
       "</table>\n",
       "</div>"
      ],
      "text/plain": [
       "   Ranking  IMDByear           IMDBlink                               Title  \\\n",
       "0        1      1996  /title/tt0076759/  Star Wars: Episode IV - A New Hope   \n",
       "1        2      1996  /title/tt0111161/            The Shawshank Redemption   \n",
       "2        3      1996  /title/tt0117951/                       Trainspotting   \n",
       "3        4      1996  /title/tt0114814/                  The Usual Suspects   \n",
       "4        5      1996  /title/tt0108598/                  The Wrong Trousers   \n",
       "\n",
       "   Date  RunTime                       Genre  Rating  Score    Votes   Gross  \\\n",
       "0  1977      121  Action, Adventure, Fantasy     8.6   90.0  1299781  322.74   \n",
       "1  1994      142                       Drama     9.3   80.0  2529673   28.34   \n",
       "2  1996       93                       Drama     8.1   83.0   665213   16.50   \n",
       "3  1995      106       Crime, Drama, Mystery     8.5   77.0  1045626   23.34   \n",
       "4  1993       30    Animation, Short, Comedy     8.3    NaN    53316     NaN   \n",
       "\n",
       "         Director           Cast1             Cast2               Cast3  \\\n",
       "0    George Lucas     Mark Hamill     Harrison Ford       Carrie Fisher   \n",
       "1  Frank Darabont     Tim Robbins    Morgan Freeman          Bob Gunton   \n",
       "2     Danny Boyle   Ewan McGregor      Ewen Bremner    Jonny Lee Miller   \n",
       "3    Bryan Singer    Kevin Spacey     Gabriel Byrne    Chazz Palminteri   \n",
       "4       Nick Park    Peter Sallis     Peter Hawkins                 NaN   \n",
       "\n",
       "               Cast4  \n",
       "0      Alec Guinness  \n",
       "1     William Sadler  \n",
       "2       Kevin McKidd  \n",
       "3    Stephen Baldwin  \n",
       "4                NaN  "
      ]
     },
     "execution_count": 8,
     "metadata": {},
     "output_type": "execute_result"
    }
   ],
   "source": [
    "df = pd.read_csv(r\"C:\\Users\\eemer\\Documents\\SCHOOL\\Data science project\\imdbTop250.csv\", index_col=False, delimiter=',')\n",
    "df.head(5)"
   ]
  },
  {
   "cell_type": "markdown",
   "metadata": {},
   "source": [
    "From the above pandas dataframe, since we have missing represented as **NaN**, we need to convert all this to values mysql can understand which is **None**"
   ]
  },
  {
   "cell_type": "code",
   "execution_count": 9,
   "metadata": {},
   "outputs": [
    {
     "data": {
      "text/html": [
       "<div>\n",
       "<style scoped>\n",
       "    .dataframe tbody tr th:only-of-type {\n",
       "        vertical-align: middle;\n",
       "    }\n",
       "\n",
       "    .dataframe tbody tr th {\n",
       "        vertical-align: top;\n",
       "    }\n",
       "\n",
       "    .dataframe thead th {\n",
       "        text-align: right;\n",
       "    }\n",
       "</style>\n",
       "<table border=\"1\" class=\"dataframe\">\n",
       "  <thead>\n",
       "    <tr style=\"text-align: right;\">\n",
       "      <th></th>\n",
       "      <th>Ranking</th>\n",
       "      <th>IMDByear</th>\n",
       "      <th>IMDBlink</th>\n",
       "      <th>Title</th>\n",
       "      <th>Date</th>\n",
       "      <th>RunTime</th>\n",
       "      <th>Genre</th>\n",
       "      <th>Rating</th>\n",
       "      <th>Score</th>\n",
       "      <th>Votes</th>\n",
       "      <th>Gross</th>\n",
       "      <th>Director</th>\n",
       "      <th>Cast1</th>\n",
       "      <th>Cast2</th>\n",
       "      <th>Cast3</th>\n",
       "      <th>Cast4</th>\n",
       "    </tr>\n",
       "  </thead>\n",
       "  <tbody>\n",
       "    <tr>\n",
       "      <th>0</th>\n",
       "      <td>1</td>\n",
       "      <td>1996</td>\n",
       "      <td>/title/tt0076759/</td>\n",
       "      <td>Star Wars: Episode IV - A New Hope</td>\n",
       "      <td>1977</td>\n",
       "      <td>121</td>\n",
       "      <td>Action, Adventure, Fantasy</td>\n",
       "      <td>8.6</td>\n",
       "      <td>90.0</td>\n",
       "      <td>1299781</td>\n",
       "      <td>322.74</td>\n",
       "      <td>George Lucas</td>\n",
       "      <td>Mark Hamill</td>\n",
       "      <td>Harrison Ford</td>\n",
       "      <td>Carrie Fisher</td>\n",
       "      <td>Alec Guinness</td>\n",
       "    </tr>\n",
       "    <tr>\n",
       "      <th>1</th>\n",
       "      <td>2</td>\n",
       "      <td>1996</td>\n",
       "      <td>/title/tt0111161/</td>\n",
       "      <td>The Shawshank Redemption</td>\n",
       "      <td>1994</td>\n",
       "      <td>142</td>\n",
       "      <td>Drama</td>\n",
       "      <td>9.3</td>\n",
       "      <td>80.0</td>\n",
       "      <td>2529673</td>\n",
       "      <td>28.34</td>\n",
       "      <td>Frank Darabont</td>\n",
       "      <td>Tim Robbins</td>\n",
       "      <td>Morgan Freeman</td>\n",
       "      <td>Bob Gunton</td>\n",
       "      <td>William Sadler</td>\n",
       "    </tr>\n",
       "    <tr>\n",
       "      <th>2</th>\n",
       "      <td>3</td>\n",
       "      <td>1996</td>\n",
       "      <td>/title/tt0117951/</td>\n",
       "      <td>Trainspotting</td>\n",
       "      <td>1996</td>\n",
       "      <td>93</td>\n",
       "      <td>Drama</td>\n",
       "      <td>8.1</td>\n",
       "      <td>83.0</td>\n",
       "      <td>665213</td>\n",
       "      <td>16.5</td>\n",
       "      <td>Danny Boyle</td>\n",
       "      <td>Ewan McGregor</td>\n",
       "      <td>Ewen Bremner</td>\n",
       "      <td>Jonny Lee Miller</td>\n",
       "      <td>Kevin McKidd</td>\n",
       "    </tr>\n",
       "    <tr>\n",
       "      <th>3</th>\n",
       "      <td>4</td>\n",
       "      <td>1996</td>\n",
       "      <td>/title/tt0114814/</td>\n",
       "      <td>The Usual Suspects</td>\n",
       "      <td>1995</td>\n",
       "      <td>106</td>\n",
       "      <td>Crime, Drama, Mystery</td>\n",
       "      <td>8.5</td>\n",
       "      <td>77.0</td>\n",
       "      <td>1045626</td>\n",
       "      <td>23.34</td>\n",
       "      <td>Bryan Singer</td>\n",
       "      <td>Kevin Spacey</td>\n",
       "      <td>Gabriel Byrne</td>\n",
       "      <td>Chazz Palminteri</td>\n",
       "      <td>Stephen Baldwin</td>\n",
       "    </tr>\n",
       "    <tr>\n",
       "      <th>4</th>\n",
       "      <td>5</td>\n",
       "      <td>1996</td>\n",
       "      <td>/title/tt0108598/</td>\n",
       "      <td>The Wrong Trousers</td>\n",
       "      <td>1993</td>\n",
       "      <td>30</td>\n",
       "      <td>Animation, Short, Comedy</td>\n",
       "      <td>8.3</td>\n",
       "      <td>None</td>\n",
       "      <td>53316</td>\n",
       "      <td>None</td>\n",
       "      <td>Nick Park</td>\n",
       "      <td>Peter Sallis</td>\n",
       "      <td>Peter Hawkins</td>\n",
       "      <td>None</td>\n",
       "      <td>None</td>\n",
       "    </tr>\n",
       "  </tbody>\n",
       "</table>\n",
       "</div>"
      ],
      "text/plain": [
       "   Ranking  IMDByear           IMDBlink                               Title  \\\n",
       "0        1      1996  /title/tt0076759/  Star Wars: Episode IV - A New Hope   \n",
       "1        2      1996  /title/tt0111161/            The Shawshank Redemption   \n",
       "2        3      1996  /title/tt0117951/                       Trainspotting   \n",
       "3        4      1996  /title/tt0114814/                  The Usual Suspects   \n",
       "4        5      1996  /title/tt0108598/                  The Wrong Trousers   \n",
       "\n",
       "   Date  RunTime                       Genre Rating Score    Votes   Gross  \\\n",
       "0  1977      121  Action, Adventure, Fantasy    8.6  90.0  1299781  322.74   \n",
       "1  1994      142                       Drama    9.3  80.0  2529673   28.34   \n",
       "2  1996       93                       Drama    8.1  83.0   665213    16.5   \n",
       "3  1995      106       Crime, Drama, Mystery    8.5  77.0  1045626   23.34   \n",
       "4  1993       30    Animation, Short, Comedy    8.3  None    53316    None   \n",
       "\n",
       "         Director           Cast1             Cast2               Cast3  \\\n",
       "0    George Lucas     Mark Hamill     Harrison Ford       Carrie Fisher   \n",
       "1  Frank Darabont     Tim Robbins    Morgan Freeman          Bob Gunton   \n",
       "2     Danny Boyle   Ewan McGregor      Ewen Bremner    Jonny Lee Miller   \n",
       "3    Bryan Singer    Kevin Spacey     Gabriel Byrne    Chazz Palminteri   \n",
       "4       Nick Park    Peter Sallis     Peter Hawkins                None   \n",
       "\n",
       "               Cast4  \n",
       "0      Alec Guinness  \n",
       "1     William Sadler  \n",
       "2       Kevin McKidd  \n",
       "3    Stephen Baldwin  \n",
       "4               None  "
      ]
     },
     "execution_count": 9,
     "metadata": {},
     "output_type": "execute_result"
    }
   ],
   "source": [
    "df1 = df.replace({np.nan:None})\n",
    "df1.head(5)"
   ]
  },
  {
   "cell_type": "code",
   "execution_count": 10,
   "metadata": {},
   "outputs": [],
   "source": [
    "from pandas.io import sql\n",
    "from pandas.io.parsers.readers import validate_bool_kwarg\n",
    "\n",
    "\n",
    "for i,row in df1.iterrows():\n",
    "    sql = \"INSERT INTO mydb.imdbtop250 VALUES (%s,%s,%s,%s,%s,%s,%s,%s,%s,%s,%s,%s,%s,%s,%s,%s)\"\n",
    "    mycursor1.execute(sql, tuple(row))\n",
    "    conn1.commit()"
   ]
  },
  {
   "cell_type": "markdown",
   "metadata": {},
   "source": [
    "We are now set, now let us make some queries"
   ]
  },
  {
   "cell_type": "markdown",
   "metadata": {},
   "source": [
    "#### Querying our newly created table"
   ]
  },
  {
   "cell_type": "markdown",
   "metadata": {},
   "source": [
    "##### Query 1"
   ]
  },
  {
   "cell_type": "markdown",
   "metadata": {},
   "source": [
    "**Note:** Since mycursor1 was created from conn1 with its connection linked to work with \"mydb\" above, I do not need to explictly call it with any table name in this db again"
   ]
  },
  {
   "cell_type": "code",
   "execution_count": 11,
   "metadata": {},
   "outputs": [
    {
     "name": "stdout",
     "output_type": "stream",
     "text": [
      "First 5 records of the table: \n",
      " \n",
      "(1, '1996', '/title/tt0076759/', 'Star Wars: Episode IV - A New Hope', '1977', 121, 'Action, Adventure, Fantasy', 8.6, 90, 1299781, 322.74, 'George Lucas', ' Mark Hamill', '  Harrison Ford', '  Carrie Fisher', '  Alec Guinness')\n",
      "(2, '1996', '/title/tt0111161/', 'The Shawshank Redemption', '1994', 142, 'Drama', 9.3, 80, 2529673, 28.34, 'Frank Darabont', ' Tim Robbins', '  Morgan Freeman', '  Bob Gunton', '  William Sadler')\n",
      "(3, '1996', '/title/tt0117951/', 'Trainspotting', '1996', 93, 'Drama', 8.1, 83, 665213, 16.5, 'Danny Boyle', ' Ewan McGregor', '  Ewen Bremner', '  Jonny Lee Miller', '  Kevin McKidd')\n",
      "(4, '1996', '/title/tt0114814/', 'The Usual Suspects', '1995', 106, 'Crime, Drama, Mystery', 8.5, 77, 1045626, 23.34, 'Bryan Singer', ' Kevin Spacey', '  Gabriel Byrne', '  Chazz Palminteri', '  Stephen Baldwin')\n",
      "(5, '1996', '/title/tt0108598/', 'The Wrong Trousers', '1993', 30, 'Animation, Short, Comedy', 8.3, None, 53316, None, 'Nick Park', ' Peter Sallis', '  Peter Hawkins', None, None)\n"
     ]
    }
   ],
   "source": [
    "mycursor1.execute(\"SELECT * FROM imdbtop250 limit 5\")\n",
    "\n",
    "res1 = mycursor1.fetchall()\n",
    "print(\"First 5 records of the table: \")\n",
    "print(\" \")\n",
    "\n",
    "for i in res1:\n",
    "    print(i)"
   ]
  },
  {
   "cell_type": "markdown",
   "metadata": {},
   "source": [
    "From the above, we see that this is the same information we have as our df1."
   ]
  },
  {
   "cell_type": "markdown",
   "metadata": {},
   "source": [
    "##### Query 2"
   ]
  },
  {
   "cell_type": "code",
   "execution_count": 12,
   "metadata": {},
   "outputs": [
    {
     "name": "stdout",
     "output_type": "stream",
     "text": [
      "First 10 records of all imdbtop250 titles with RunTime more than 100 minutes:\n",
      " \n",
      "(1, '1996', '/title/tt0076759/', 'Star Wars: Episode IV - A New Hope', '1977', 121, 'Action, Adventure, Fantasy', 8.6, 90, 1299781, 322.74, 'George Lucas', ' Mark Hamill', '  Harrison Ford', '  Carrie Fisher', '  Alec Guinness')\n",
      "(2, '1996', '/title/tt0111161/', 'The Shawshank Redemption', '1994', 142, 'Drama', 9.3, 80, 2529673, 28.34, 'Frank Darabont', ' Tim Robbins', '  Morgan Freeman', '  Bob Gunton', '  William Sadler')\n",
      "(4, '1996', '/title/tt0114814/', 'The Usual Suspects', '1995', 106, 'Crime, Drama, Mystery', 8.5, 77, 1045626, 23.34, 'Bryan Singer', ' Kevin Spacey', '  Gabriel Byrne', '  Chazz Palminteri', '  Stephen Baldwin')\n",
      "(7, '1996', '/title/tt0117731/', 'Star Trek: First Contact', '1996', 111, 'Action, Adventure, Drama', 7.6, 71, 122819, 92.0, 'Jonathan Frakes', ' Patrick Stewart', '  Jonathan Frakes', '  Brent Spiner', '  LeVar Burton')\n",
      "(8, '1996', '/title/tt0034583/', 'Casablanca', '1942', 102, 'Drama, Romance, War', 8.5, 100, 551575, 1.02, 'Michael Curtiz', ' Humphrey Bogart', '  Ingrid Bergman', '  Paul Henreid', '  Claude Rains')\n",
      "(9, '1996', '/title/tt0083658/', 'Blade Runner', '1982', 117, 'Action, Drama, Sci-Fi', 8.1, 84, 736925, 32.87, 'Ridley Scott', ' Harrison Ford', '  Rutger Hauer', '  Sean Young', '  Edward James Olmos')\n",
      "(10, '1996', '/title/tt0108052/', \"Schindler's List\", '1993', 195, 'Biography, Drama, History', 8.9, 94, 1292510, 96.9, 'Steven Spielberg', ' Liam Neeson', '  Ralph Fiennes', '  Ben Kingsley', '  Caroline Goodall')\n",
      "(11, '1996', '/title/tt0033467/', 'Citizen Kane', '1941', 119, 'Drama, Mystery', 8.3, 100, 428750, 1.59, 'Orson Welles', ' Orson Welles', '  Joseph Cotten', '  Dorothy Comingore', '  Agnes Moorehead')\n",
      "(12, '1996', '/title/tt0110912/', 'Pulp Fiction', '1994', 154, 'Crime, Drama', 8.9, 94, 1948662, 107.93, 'Quentin Tarantino', ' John Travolta', '  Uma Thurman', '  Samuel L. Jackson', '  Bruce Willis')\n",
      "(14, '1996', '/title/tt0068646/', 'The Godfather', '1972', 175, 'Crime, Drama', 9.2, 100, 1741574, 134.97, 'Francis Ford Coppola', ' Marlon Brando', '  Al Pacino', '  James Caan', '  Diane Keaton')\n"
     ]
    }
   ],
   "source": [
    "sql1 = \"SELECT * FROM imdbtop250 WHERE RunTime > 100 limit 10\"\n",
    "mycursor1.execute(sql1)\n",
    "\n",
    "res2 = mycursor1.fetchall()\n",
    "print(\"First 10 records of all imdbtop250 titles with RunTime more than 100 minutes:\")\n",
    "print(\" \")\n",
    "\n",
    "for i in res2:\n",
    "    print(i)"
   ]
  },
  {
   "cell_type": "markdown",
   "metadata": {},
   "source": [
    "#### Mysql Aggregate Functions"
   ]
  },
  {
   "cell_type": "code",
   "execution_count": 13,
   "metadata": {},
   "outputs": [
    {
     "name": "stdout",
     "output_type": "stream",
     "text": [
      "Average Rating of Movies in a given IMDByear and Total Gross made in that year: \n",
      " \n",
      "('1996', 7.83, 10371.94)\n",
      "('1997', 7.94, 12837.39)\n",
      "('1998', 7.98, 12817.7)\n",
      "('1999', 8.07, 11181.34)\n",
      "('2000', 8.09, 11435.71)\n",
      "('2001', 8.09, 12692.43)\n",
      "('2002', 8.11, 12859.91)\n",
      "('2003', 8.13, 14004.74)\n",
      "('2004', 8.15, 12399.39)\n",
      "('2005', 8.16, 13195.06)\n",
      "('2006', 8.18, 12967.02)\n",
      "('2007', 8.19, 13016.98)\n",
      "('2008', 8.19, 13595.25)\n",
      "('2009', 8.2, 16400.35)\n",
      "('2010', 8.22, 16552.35)\n",
      "('2011', 8.23, 17497.85)\n",
      "('2012', 8.23, 18737.71)\n",
      "('2013', 8.25, 18159.9)\n",
      "('2014', 8.26, 18158.57)\n",
      "('2015', 8.25, 19947.59)\n",
      "('2016', 8.27, 19177.97)\n",
      "('2017', 8.27, 18346.65)\n",
      "('2018', 8.28, 18789.37)\n",
      "('2019', 8.29, 19520.7)\n",
      "('2020', 8.3, 18958.73)\n",
      "('2021', 8.31, 18785.83)\n"
     ]
    }
   ],
   "source": [
    "sql2 = \"SELECT IMDByear, ROUND(AVG(Rating),2), ROUND(SUM(Gross),2) FROM imdbtop250 GROUP BY IMDByear\"\n",
    "\n",
    "mycursor1.execute(sql2)\n",
    "agg1 = mycursor1.fetchall()\n",
    "print(\"Average Rating of Movies in a given IMDByear and Total Gross made in that year: \")\n",
    "print(\" \")\n",
    "\n",
    "for i in agg1:\n",
    "    print(i)"
   ]
  },
  {
   "cell_type": "markdown",
   "metadata": {},
   "source": [
    "#### References\n",
    "\n",
    "1.  https://www.kaggle.com/datasets/mustafacicek/imdb-top-250-lists-1996-2020"
   ]
  }
 ],
 "metadata": {
  "kernelspec": {
   "display_name": "Python 3.9.7 64-bit",
   "language": "python",
   "name": "python3"
  },
  "language_info": {
   "codemirror_mode": {
    "name": "ipython",
    "version": 3
   },
   "file_extension": ".py",
   "mimetype": "text/x-python",
   "name": "python",
   "nbconvert_exporter": "python",
   "pygments_lexer": "ipython3",
   "version": "3.9.7"
  },
  "orig_nbformat": 4,
  "vscode": {
   "interpreter": {
    "hash": "01e5d2aee55c9b863ee25c28ec984bbac9791f1a638c08348e0dfa983fdb8298"
   }
  }
 },
 "nbformat": 4,
 "nbformat_minor": 2
}
