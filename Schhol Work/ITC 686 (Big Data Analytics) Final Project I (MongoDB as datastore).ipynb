{
 "cells": [
  {
   "cell_type": "markdown",
   "id": "1aba3afb",
   "metadata": {},
   "source": [
    "# ITC 686 (BIG DATA ANALYTICS)  FINAL PROJECT"
   ]
  },
  {
   "cell_type": "markdown",
   "id": "a2a0c471",
   "metadata": {},
   "source": [
    "## PART 1 (Loading datasets into MongoDB)"
   ]
  },
  {
   "cell_type": "markdown",
   "id": "eeb76f10",
   "metadata": {},
   "source": [
    "**Loading dataset with pandas and using MongoDB as datastore**"
   ]
  },
  {
   "cell_type": "markdown",
   "id": "9962418a",
   "metadata": {},
   "source": [
    "The data sets used were obtained from kaggle, with the four links provided below, which were then downloaded first before reading with pandas and loading to the MongoDB datastore\n",
    "1. https://www.kaggle.com/cynthiarempel/amazon-us-customer-reviews-dataset?select=amazon_reviews_us_Baby_v1_00.tsv\n",
    "2. https://www.kaggle.com/cynthiarempel/amazon-us-customer-reviews-dataset?select=amazon_reviews_us_Electronics_v1_00.tsv\n",
    "3. https://www.kaggle.com/cynthiarempel/amazon-us-customer-reviews-dataset?select=amazon_reviews_us_Office_Products_v1_00.tsv\n",
    "4. https://www.kaggle.com/datasets/cynthiarempel/amazon-us-customer-reviews-dataset?select=amazon_reviews_us_Toys_v1_00.tsv"
   ]
  },
  {
   "cell_type": "code",
   "execution_count": 1,
   "id": "a92a619c",
   "metadata": {},
   "outputs": [
    {
     "name": "stdout",
     "output_type": "stream",
     "text": [
      "Requirement already satisfied: pymongo in c:\\users\\eemer\\anaconda3\\lib\\site-packages (4.1.1)\n",
      "Requirement already satisfied: dnspython in c:\\users\\eemer\\anaconda3\\lib\\site-packages (2.2.1)\n"
     ]
    }
   ],
   "source": [
    "!pip install pymongo\n",
    "!pip install dnspython"
   ]
  },
  {
   "cell_type": "markdown",
   "id": "54eca96e",
   "metadata": {},
   "source": [
    "Connecting to Mongodb client for the first time after MongoDB was setup on local PC and also printing all database nnames after setup"
   ]
  },
  {
   "cell_type": "code",
   "execution_count": 2,
   "id": "22a86e29",
   "metadata": {},
   "outputs": [
    {
     "name": "stdout",
     "output_type": "stream",
     "text": [
      "['admin', 'config', 'local']\n"
     ]
    }
   ],
   "source": [
    "import pymongo\n",
    "\n",
    "myclient = pymongo.MongoClient(\"mongodb://localhost:27017/\")\n",
    "\n",
    "# A look at database names\n",
    "print(myclient.list_database_names())"
   ]
  },
  {
   "cell_type": "code",
   "execution_count": 3,
   "id": "4b219dc0",
   "metadata": {
    "scrolled": true
   },
   "outputs": [
    {
     "name": "stderr",
     "output_type": "stream",
     "text": [
      "C:\\Users\\eemer\\anaconda3\\lib\\site-packages\\IPython\\core\\interactiveshell.py:3441: FutureWarning: The error_bad_lines argument has been deprecated and will be removed in a future version.\n",
      "\n",
      "\n",
      "  exec(code_obj, self.user_global_ns, self.user_ns)\n",
      "b'Skipping line 9553: expected 15 fields, saw 22\\nSkipping line 16240: expected 15 fields, saw 22\\nSkipping line 21292: expected 15 fields, saw 22\\nSkipping line 43160: expected 15 fields, saw 22\\n'\n",
      "b'Skipping line 75057: expected 15 fields, saw 22\\nSkipping line 77996: expected 15 fields, saw 22\\nSkipping line 90688: expected 15 fields, saw 22\\n'\n",
      "b'Skipping line 149039: expected 15 fields, saw 22\\nSkipping line 156530: expected 15 fields, saw 22\\nSkipping line 165609: expected 15 fields, saw 22\\nSkipping line 174362: expected 15 fields, saw 22\\nSkipping line 191190: expected 15 fields, saw 22\\n'\n",
      "b'Skipping line 201182: expected 15 fields, saw 22\\nSkipping line 206503: expected 15 fields, saw 22\\nSkipping line 231942: expected 15 fields, saw 22\\nSkipping line 243480: expected 15 fields, saw 22\\nSkipping line 252489: expected 15 fields, saw 22\\n'\n",
      "b'Skipping line 335656: expected 15 fields, saw 22\\nSkipping line 355068: expected 15 fields, saw 22\\nSkipping line 374843: expected 15 fields, saw 22\\nSkipping line 378331: expected 15 fields, saw 22\\nSkipping line 388062: expected 15 fields, saw 22\\n'\n",
      "b'Skipping line 398341: expected 15 fields, saw 22\\nSkipping line 425991: expected 15 fields, saw 22\\n'\n",
      "b'Skipping line 536102: expected 15 fields, saw 22\\nSkipping line 545100: expected 15 fields, saw 22\\nSkipping line 549997: expected 15 fields, saw 22\\nSkipping line 568788: expected 15 fields, saw 22\\nSkipping line 569238: expected 15 fields, saw 22\\n'\n",
      "b'Skipping line 604176: expected 15 fields, saw 22\\nSkipping line 609611: expected 15 fields, saw 22\\nSkipping line 622383: expected 15 fields, saw 22\\nSkipping line 629055: expected 15 fields, saw 22\\nSkipping line 631457: expected 15 fields, saw 22\\nSkipping line 642766: expected 15 fields, saw 22\\n'\n",
      "b'Skipping line 681948: expected 15 fields, saw 22\\nSkipping line 687942: expected 15 fields, saw 22\\nSkipping line 691073: expected 15 fields, saw 22\\nSkipping line 696938: expected 15 fields, saw 22\\n'\n",
      "b'Skipping line 791556: expected 15 fields, saw 22\\n'\n",
      "b'Skipping line 1013014: expected 15 fields, saw 22\\n'\n",
      "b'Skipping line 1239913: expected 15 fields, saw 22\\n'\n",
      "C:\\Users\\eemer\\anaconda3\\lib\\site-packages\\IPython\\core\\interactiveshell.py:3441: DtypeWarning: Columns (7) have mixed types.Specify dtype option on import or set low_memory=False.\n",
      "  exec(code_obj, self.user_global_ns, self.user_ns)\n",
      "b'Skipping line 9076: expected 15 fields, saw 22\\nSkipping line 19256: expected 15 fields, saw 22\\nSkipping line 24313: expected 15 fields, saw 22\\nSkipping line 47211: expected 15 fields, saw 22\\nSkipping line 54295: expected 15 fields, saw 22\\nSkipping line 56641: expected 15 fields, saw 22\\nSkipping line 63067: expected 15 fields, saw 22\\n'\n",
      "b'Skipping line 93796: expected 15 fields, saw 22\\n'\n",
      "b'Skipping line 132806: expected 15 fields, saw 22\\nSkipping line 164631: expected 15 fields, saw 22\\nSkipping line 167019: expected 15 fields, saw 22\\nSkipping line 167212: expected 15 fields, saw 22\\n'\n",
      "b'Skipping line 198103: expected 15 fields, saw 22\\nSkipping line 199191: expected 15 fields, saw 22\\nSkipping line 202841: expected 15 fields, saw 22\\nSkipping line 218228: expected 15 fields, saw 22\\nSkipping line 235900: expected 15 fields, saw 22\\n'\n",
      "b'Skipping line 277761: expected 15 fields, saw 22\\nSkipping line 304582: expected 15 fields, saw 22\\nSkipping line 312029: expected 15 fields, saw 22\\n'\n",
      "b'Skipping line 343692: expected 15 fields, saw 22\\nSkipping line 352291: expected 15 fields, saw 22\\nSkipping line 363414: expected 15 fields, saw 22\\nSkipping line 378087: expected 15 fields, saw 22\\nSkipping line 378720: expected 15 fields, saw 22\\nSkipping line 378760: expected 15 fields, saw 22\\nSkipping line 379336: expected 15 fields, saw 22\\n'\n",
      "b'Skipping line 402682: expected 15 fields, saw 22\\n'\n",
      "b'Skipping line 466560: expected 15 fields, saw 22\\nSkipping line 486823: expected 15 fields, saw 22\\nSkipping line 489036: expected 15 fields, saw 22\\nSkipping line 496148: expected 15 fields, saw 22\\nSkipping line 522330: expected 15 fields, saw 22\\n'\n",
      "b'Skipping line 552961: expected 15 fields, saw 22\\nSkipping line 577388: expected 15 fields, saw 22\\nSkipping line 582182: expected 15 fields, saw 22\\n'\n",
      "b'Skipping line 590653: expected 15 fields, saw 22\\nSkipping line 608846: expected 15 fields, saw 22\\nSkipping line 615442: expected 15 fields, saw 22\\nSkipping line 645607: expected 15 fields, saw 22\\nSkipping line 654323: expected 15 fields, saw 22\\n'\n",
      "b'Skipping line 714935: expected 15 fields, saw 22\\n'\n",
      "b'Skipping line 749608: expected 15 fields, saw 22\\nSkipping line 753868: expected 15 fields, saw 22\\nSkipping line 762504: expected 15 fields, saw 22\\nSkipping line 771706: expected 15 fields, saw 22\\nSkipping line 773376: expected 15 fields, saw 22\\n'\n",
      "b'Skipping line 792407: expected 15 fields, saw 22\\nSkipping line 793933: expected 15 fields, saw 22\\nSkipping line 813269: expected 15 fields, saw 22\\nSkipping line 835491: expected 15 fields, saw 22\\nSkipping line 841176: expected 15 fields, saw 22\\nSkipping line 844604: expected 15 fields, saw 22\\n'\n",
      "b'Skipping line 857952: expected 15 fields, saw 22\\nSkipping line 859568: expected 15 fields, saw 22\\nSkipping line 860789: expected 15 fields, saw 22\\nSkipping line 863093: expected 15 fields, saw 22\\nSkipping line 881608: expected 15 fields, saw 22\\nSkipping line 891157: expected 15 fields, saw 22\\nSkipping line 893799: expected 15 fields, saw 22\\nSkipping line 906438: expected 15 fields, saw 22\\nSkipping line 914856: expected 15 fields, saw 22\\n'\n",
      "b'Skipping line 940736: expected 15 fields, saw 22\\nSkipping line 965818: expected 15 fields, saw 22\\n'\n",
      "b'Skipping line 993840: expected 15 fields, saw 22\\nSkipping line 1019036: expected 15 fields, saw 22\\nSkipping line 1019205: expected 15 fields, saw 22\\n'\n",
      "b'Skipping line 1058122: expected 15 fields, saw 22\\n'\n",
      "b'Skipping line 1144887: expected 15 fields, saw 22\\nSkipping line 1147255: expected 15 fields, saw 22\\nSkipping line 1164497: expected 15 fields, saw 22\\nSkipping line 1166930: expected 15 fields, saw 22\\n'\n",
      "b'Skipping line 1218319: expected 15 fields, saw 22\\nSkipping line 1232868: expected 15 fields, saw 22\\n'\n",
      "b'Skipping line 1307335: expected 15 fields, saw 22\\n'\n",
      "b'Skipping line 1621422: expected 15 fields, saw 22\\n'\n",
      "b'Skipping line 1857720: expected 15 fields, saw 22\\n'\n",
      "b'Skipping line 1935753: expected 15 fields, saw 22\\n'\n",
      "b'Skipping line 1988449: expected 15 fields, saw 22\\n'\n",
      "b'Skipping line 20773: expected 15 fields, saw 22\\nSkipping line 39834: expected 15 fields, saw 22\\nSkipping line 52957: expected 15 fields, saw 22\\nSkipping line 54540: expected 15 fields, saw 22\\n'\n",
      "b'Skipping line 80276: expected 15 fields, saw 22\\nSkipping line 96168: expected 15 fields, saw 22\\nSkipping line 96866: expected 15 fields, saw 22\\nSkipping line 98175: expected 15 fields, saw 22\\nSkipping line 112539: expected 15 fields, saw 22\\nSkipping line 119377: expected 15 fields, saw 22\\nSkipping line 120065: expected 15 fields, saw 22\\nSkipping line 124703: expected 15 fields, saw 22\\n'\n",
      "b'Skipping line 134024: expected 15 fields, saw 22\\nSkipping line 153938: expected 15 fields, saw 22\\nSkipping line 156225: expected 15 fields, saw 22\\nSkipping line 168603: expected 15 fields, saw 22\\nSkipping line 187002: expected 15 fields, saw 22\\n'\n",
      "b'Skipping line 200397: expected 15 fields, saw 22\\nSkipping line 203809: expected 15 fields, saw 22\\nSkipping line 207680: expected 15 fields, saw 22\\nSkipping line 223421: expected 15 fields, saw 22\\nSkipping line 244032: expected 15 fields, saw 22\\n'\n",
      "b'Skipping line 270329: expected 15 fields, saw 22\\nSkipping line 276484: expected 15 fields, saw 22\\nSkipping line 304755: expected 15 fields, saw 22\\n'\n",
      "b'Skipping line 379449: expected 15 fields, saw 22\\nSkipping line 386191: expected 15 fields, saw 22\\nSkipping line 391811: expected 15 fields, saw 22\\n'\n",
      "b'Skipping line 414348: expected 15 fields, saw 22\\nSkipping line 414773: expected 15 fields, saw 22\\nSkipping line 417572: expected 15 fields, saw 22\\nSkipping line 419496: expected 15 fields, saw 22\\nSkipping line 430528: expected 15 fields, saw 22\\nSkipping line 442230: expected 15 fields, saw 22\\nSkipping line 450931: expected 15 fields, saw 22\\n'\n"
     ]
    },
    {
     "name": "stderr",
     "output_type": "stream",
     "text": [
      "b'Skipping line 465377: expected 15 fields, saw 22\\nSkipping line 467685: expected 15 fields, saw 22\\nSkipping line 485055: expected 15 fields, saw 22\\nSkipping line 487220: expected 15 fields, saw 22\\nSkipping line 496076: expected 15 fields, saw 22\\nSkipping line 512269: expected 15 fields, saw 22\\n'\n",
      "b'Skipping line 529505: expected 15 fields, saw 22\\nSkipping line 531286: expected 15 fields, saw 22\\nSkipping line 535424: expected 15 fields, saw 22\\nSkipping line 569898: expected 15 fields, saw 22\\nSkipping line 586293: expected 15 fields, saw 22\\n'\n",
      "b'Skipping line 593880: expected 15 fields, saw 22\\nSkipping line 599274: expected 15 fields, saw 22\\nSkipping line 607961: expected 15 fields, saw 22\\nSkipping line 612413: expected 15 fields, saw 22\\nSkipping line 615913: expected 15 fields, saw 22\\n'\n",
      "b'Skipping line 677580: expected 15 fields, saw 22\\nSkipping line 687191: expected 15 fields, saw 22\\nSkipping line 710819: expected 15 fields, saw 22\\n'\n",
      "b'Skipping line 728692: expected 15 fields, saw 22\\nSkipping line 730216: expected 15 fields, saw 22\\nSkipping line 758397: expected 15 fields, saw 22\\nSkipping line 760061: expected 15 fields, saw 22\\nSkipping line 768935: expected 15 fields, saw 22\\nSkipping line 769483: expected 15 fields, saw 22\\n'\n",
      "b'Skipping line 822725: expected 15 fields, saw 22\\nSkipping line 823621: expected 15 fields, saw 22\\n'\n",
      "b'Skipping line 857041: expected 15 fields, saw 22\\nSkipping line 857320: expected 15 fields, saw 22\\nSkipping line 858565: expected 15 fields, saw 22\\nSkipping line 860629: expected 15 fields, saw 22\\nSkipping line 864033: expected 15 fields, saw 22\\nSkipping line 868673: expected 15 fields, saw 22\\nSkipping line 869189: expected 15 fields, saw 22\\n'\n",
      "b'Skipping line 938605: expected 15 fields, saw 22\\nSkipping line 940100: expected 15 fields, saw 22\\nSkipping line 975137: expected 15 fields, saw 22\\nSkipping line 976314: expected 15 fields, saw 22\\n'\n",
      "b'Skipping line 985597: expected 15 fields, saw 22\\nSkipping line 990873: expected 15 fields, saw 22\\nSkipping line 991806: expected 15 fields, saw 22\\nSkipping line 1019808: expected 15 fields, saw 22\\nSkipping line 1021526: expected 15 fields, saw 22\\nSkipping line 1023905: expected 15 fields, saw 22\\nSkipping line 1044207: expected 15 fields, saw 22\\n'\n",
      "b'Skipping line 1084683: expected 15 fields, saw 22\\nSkipping line 1093288: expected 15 fields, saw 22\\n'\n",
      "b'Skipping line 1136430: expected 15 fields, saw 22\\nSkipping line 1139815: expected 15 fields, saw 22\\n'\n",
      "b'Skipping line 1179821: expected 15 fields, saw 22\\nSkipping line 1195351: expected 15 fields, saw 22\\nSkipping line 1202007: expected 15 fields, saw 22\\nSkipping line 1224868: expected 15 fields, saw 22\\nSkipping line 1232490: expected 15 fields, saw 22\\nSkipping line 1238697: expected 15 fields, saw 22\\n'\n",
      "b'Skipping line 1258654: expected 15 fields, saw 22\\nSkipping line 1279948: expected 15 fields, saw 22\\nSkipping line 1294360: expected 15 fields, saw 22\\nSkipping line 1302240: expected 15 fields, saw 22\\n'\n",
      "b'Skipping line 1413654: expected 15 fields, saw 22\\n'\n",
      "b'Skipping line 1687095: expected 15 fields, saw 22\\n'\n",
      "b'Skipping line 1805966: expected 15 fields, saw 22\\n'\n",
      "b'Skipping line 1892134: expected 15 fields, saw 22\\n'\n",
      "b'Skipping line 9553: expected 15 fields, saw 22\\nSkipping line 16240: expected 15 fields, saw 22\\nSkipping line 21292: expected 15 fields, saw 22\\nSkipping line 43160: expected 15 fields, saw 22\\n'\n",
      "b'Skipping line 75057: expected 15 fields, saw 22\\nSkipping line 77996: expected 15 fields, saw 22\\nSkipping line 90688: expected 15 fields, saw 22\\n'\n",
      "b'Skipping line 149039: expected 15 fields, saw 22\\nSkipping line 156530: expected 15 fields, saw 22\\nSkipping line 165609: expected 15 fields, saw 22\\nSkipping line 174362: expected 15 fields, saw 22\\nSkipping line 191190: expected 15 fields, saw 22\\n'\n",
      "b'Skipping line 201182: expected 15 fields, saw 22\\nSkipping line 206503: expected 15 fields, saw 22\\nSkipping line 231942: expected 15 fields, saw 22\\nSkipping line 243480: expected 15 fields, saw 22\\nSkipping line 252489: expected 15 fields, saw 22\\n'\n",
      "b'Skipping line 335656: expected 15 fields, saw 22\\nSkipping line 355068: expected 15 fields, saw 22\\nSkipping line 374843: expected 15 fields, saw 22\\nSkipping line 378331: expected 15 fields, saw 22\\nSkipping line 388062: expected 15 fields, saw 22\\n'\n",
      "b'Skipping line 398341: expected 15 fields, saw 22\\nSkipping line 425991: expected 15 fields, saw 22\\n'\n",
      "b'Skipping line 536102: expected 15 fields, saw 22\\nSkipping line 545100: expected 15 fields, saw 22\\nSkipping line 549997: expected 15 fields, saw 22\\nSkipping line 568788: expected 15 fields, saw 22\\nSkipping line 569238: expected 15 fields, saw 22\\n'\n",
      "b'Skipping line 604176: expected 15 fields, saw 22\\nSkipping line 609611: expected 15 fields, saw 22\\nSkipping line 622383: expected 15 fields, saw 22\\nSkipping line 629055: expected 15 fields, saw 22\\nSkipping line 631457: expected 15 fields, saw 22\\nSkipping line 642766: expected 15 fields, saw 22\\n'\n",
      "b'Skipping line 681948: expected 15 fields, saw 22\\nSkipping line 687942: expected 15 fields, saw 22\\nSkipping line 691073: expected 15 fields, saw 22\\nSkipping line 696938: expected 15 fields, saw 22\\n'\n",
      "b'Skipping line 791556: expected 15 fields, saw 22\\n'\n",
      "b'Skipping line 1013014: expected 15 fields, saw 22\\n'\n",
      "b'Skipping line 1239913: expected 15 fields, saw 22\\n'\n"
     ]
    }
   ],
   "source": [
    "import pandas as pd\n",
    "\n",
    "d1 = pd.read_csv(\"amazon_reviews_us_Baby_v1_00.tsv\", sep=\"\\t\", error_bad_lines=False)\n",
    "d2 = pd.read_csv(\"amazon_reviews_us_Electronics_v1_00.tsv\", sep=\"\\t\", error_bad_lines=False)\n",
    "d3 = pd.read_csv(\"amazon_reviews_us_Office_Products_v1_00.tsv\", sep=\"\\t\", error_bad_lines=False)\n",
    "d4 = pd.read_csv(\"amazon_reviews_us_Baby_v1_00.tsv\", sep=\"\\t\", error_bad_lines=False)"
   ]
  },
  {
   "cell_type": "markdown",
   "id": "6e342f17",
   "metadata": {},
   "source": [
    "Preparing loaded dataset to be read into MongoDB.\n",
    "\n",
    "Because MongoDB's collection takes json (dictionary) like objects as documents, each column of the merged dataframe was converted to a (key, value) pair were for each row, a column serve has the key with its respective value.\n",
    "\n",
    "Also to avoid random generated unique **_id** values, I created this unique values using the respective index of the dataframe"
   ]
  },
  {
   "cell_type": "code",
   "execution_count": 4,
   "id": "72bdfc76",
   "metadata": {},
   "outputs": [],
   "source": [
    "DF = pd.concat([d1, d2, d3, d4]).reset_index(drop=True)\n",
    "\n",
    "DF[\"_id\"] = [a for a in range(1, DF.shape[0]+1)]\n",
    "\n",
    "mylist = DF.T.to_dict().values()"
   ]
  },
  {
   "cell_type": "markdown",
   "id": "cf1c2c34",
   "metadata": {},
   "source": [
    "A new database and collection was created with the code below and all documents was inserted to the created collection"
   ]
  },
  {
   "cell_type": "code",
   "execution_count": 5,
   "id": "e81aa400",
   "metadata": {},
   "outputs": [],
   "source": [
    "mydb = myclient[\"finalprojectdatabase\"]\n",
    "\n",
    "mycol = mydb[\"amazon_reviews\"]\n",
    "\n",
    "Doc = mycol.insert_many(mylist)"
   ]
  },
  {
   "cell_type": "markdown",
   "id": "a5aa4532",
   "metadata": {},
   "source": [
    "Confirming the new database was created corrected."
   ]
  },
  {
   "cell_type": "code",
   "execution_count": 6,
   "id": "b0a15bc5",
   "metadata": {},
   "outputs": [
    {
     "name": "stdout",
     "output_type": "stream",
     "text": [
      "['admin', 'config', 'finalprojectdatabase', 'local']\n"
     ]
    }
   ],
   "source": [
    "print(myclient.list_database_names())"
   ]
  },
  {
   "cell_type": "markdown",
   "id": "be3ed9bc",
   "metadata": {},
   "source": [
    "Kindly check the second jupyter notebook for the query of documents in our collection as way to check everything is working fine so far and the third jupyter notebook for our data analysis.\n",
    "\n",
    "This project work was split into three notebooks basically to make our project process simpler as we are working with a very large volume of data and to avoid our programs suddenly crashing after hours of running"
   ]
  }
 ],
 "metadata": {
  "kernelspec": {
   "display_name": "Python 3 (ipykernel)",
   "language": "python",
   "name": "python3"
  },
  "language_info": {
   "codemirror_mode": {
    "name": "ipython",
    "version": 3
   },
   "file_extension": ".py",
   "mimetype": "text/x-python",
   "name": "python",
   "nbconvert_exporter": "python",
   "pygments_lexer": "ipython3",
   "version": "3.8.8"
  }
 },
 "nbformat": 4,
 "nbformat_minor": 5
}
