{
 "cells": [
  {
   "cell_type": "markdown",
   "id": "025118e5",
   "metadata": {},
   "source": [
    "# ITC 686 FINAL PROJECT: SENTIMENT ANALYSIS OF AMAZON PRODUCT REVIEW 1998 - 2015 USING LOGISTIC REGRESSION AND MONGODB AS DATASTORE"
   ]
  },
  {
   "cell_type": "markdown",
   "id": "71c160ed",
   "metadata": {},
   "source": [
    "## PART 2 (MongoDB query)"
   ]
  },
  {
   "cell_type": "markdown",
   "id": "5b23b84f",
   "metadata": {},
   "source": [
    "#### Working directly with the MongoDB datastore"
   ]
  },
  {
   "cell_type": "code",
   "execution_count": 1,
   "id": "022ee223",
   "metadata": {},
   "outputs": [
    {
     "name": "stdout",
     "output_type": "stream",
     "text": [
      "Requirement already satisfied: pymongo in c:\\users\\eemer\\anaconda3\\lib\\site-packages (4.1.1)\n",
      "Requirement already satisfied: dnspython in c:\\users\\eemer\\anaconda3\\lib\\site-packages (2.2.1)\n"
     ]
    }
   ],
   "source": [
    "!pip install pymongo\n",
    "!pip install dnspython"
   ]
  },
  {
   "cell_type": "code",
   "execution_count": 2,
   "id": "b19b564b",
   "metadata": {},
   "outputs": [
    {
     "name": "stdout",
     "output_type": "stream",
     "text": [
      "['admin', 'config', 'finalprojectdatabase', 'local']\n"
     ]
    }
   ],
   "source": [
    "import pymongo\n",
    "\n",
    "myclient = pymongo.MongoClient(\"mongodb://localhost:27017/\")\n",
    "\n",
    "# A look at database names\n",
    "print(myclient.list_database_names())"
   ]
  },
  {
   "cell_type": "markdown",
   "id": "50c62e61",
   "metadata": {},
   "source": [
    "First query done for **_id: 100**"
   ]
  },
  {
   "cell_type": "code",
   "execution_count": 3,
   "id": "8389ebec",
   "metadata": {},
   "outputs": [
    {
     "name": "stdout",
     "output_type": "stream",
     "text": [
      "{'_id': 100, 'marketplace': 'US', 'customer_id': 40746641, 'review_id': 'R3R4ID1DK7Y677', 'product_id': 'B00TXBSHBQ', 'product_parent': 509692694, 'product_title': 'Reusable Food Pouch (6 Pack) - Easy to Fill and Clean - Double Zipper Means No Leaking - Perfect for Homemade and Organic Baby Food - Suitable for Babies, Toddlers and Kids of All Ages', 'product_category': 'Baby', 'star_rating': 5, 'helpful_votes': 0.0, 'total_votes': 0.0, 'vine': 'N', 'verified_purchase': 'Y', 'review_headline': 'making it user-friendly and easy to clean', 'review_body': 'Very simple design, making it user-friendly and easy to clean.', 'review_date': '2015-08-31'}\n"
     ]
    }
   ],
   "source": [
    "mydb = myclient[\"finalprojectdatabase\"]\n",
    "mycol = mydb[\"amazon_reviews\"]\n",
    "\n",
    "\n",
    "myquery = {\"_id\": 100}\n",
    "mydoc = mycol.find(myquery)\n",
    "\n",
    "for x in mydoc:\n",
    "  print(x)"
   ]
  },
  {
   "cell_type": "markdown",
   "id": "a907f198",
   "metadata": {},
   "source": [
    "During the course of the project with encountered an error while working with the **star_rating** column ( we wanted to convert this column to a float) which pointed out an issue with a particuar index and on identifying the **_id** of the index as **196652**, we queried the MongoDB to get a picture of what happened.\n",
    "\n",
    "On quering, we notice that the 'star_rating' had a value of '2015-06-01' but values that we expect for this column are '1', '2', '3', '4', or '5' and since value '2015-06-01' could not be converted to a float a **ValueError** was thrown. The workaround we the use for this was to make the values of the **star_rating** column which could not be converted due to related error **na**.\n",
    "\n",
    "All code showing what was done here is in the third jupyter notebook."
   ]
  },
  {
   "cell_type": "code",
   "execution_count": 4,
   "id": "9d2c72cd",
   "metadata": {
    "scrolled": false
   },
   "outputs": [
    {
     "name": "stdout",
     "output_type": "stream",
     "text": [
      "{'_id': 196652, 'marketplace': 'US', 'customer_id': 35857264, 'review_id': 'R1D8D3GMB3JTOQ', 'product_id': 'B00GTWDTP6', 'product_parent': 212446119, 'product_title': 'The Art of CureTM Organic Teething Necklace \"GOLD\", BPA Free, All Natural\\tBaby\\t4\\t0\\t0\\tN\\tY\\tFour Stars\\tWorks well\\t2015-06-01\\nUS\\t15847066\\tR3LI9LXO84C0YG\\tB000LXQVA4\\t535123469\\tFisher-Price Rainforest Jumperoo\\tBaby\\t5\\t0\\t0\\tN\\tY\\thappy with my purchase\\tMy baby loves jumping in it. It took him a day to learn how to jump in this new toy, but once he mastered it, he actually laughed out loud on himself. The only thing that concerns me is I don\\'t know how long he should be staying there each time. Some readings say baby should not be placed in jumperoo for more than 20 minutes each time. Overall, happy with my purchase, would recommend.\\t2015-06-01\\nUS\\t32913508\\tRZ53JCPNN22CW\\tB00E25OBBI\\t708722309\\tThe Juppy Baby Walker Momentum\\tBaby\\t3\\t0\\t1\\tN\\tY\\tLoved the idea of getting this product and working with ...\\tLoved the idea of getting this product and working with my daughter to walk on her own. It\\'s a pain to constantly bring out when it\\'s practice time in my opinion. Great idea though. The straps are a bit short, so I think you still have to lean over a bit.\\t2015-06-01\\nUS\\t17034214\\tR3VPTBO8XETWU0\\tB00B787Y1M\\t815773212\\tGUND Prayer Teddy Bear Musical Baby Stuffed Animal\\tBaby\\t5\\t0\\t0\\tN\\tY\\tFive Stars\\tLove it very very soft\\t2015-06-01\\nUS\\t1116532\\tR2YY3H3C0A0V87\\tB00DUTKBSE\\t849026521\\tMunchkin High Speed Bottle Warmer\\tBaby\\t5\\t1\\t1\\tN\\tY\\tSuper quick and easy\\tWorks wonders! Super quick and easy!\\t2015-06-01\\nUS\\t2379100\\tR1SB2L1P815JUH\\tB00C4VX2KS\\t236742184\\tmyBaby SoundSpa Slumber Whale Projection and Noise Machine\\tBaby\\t5\\t0\\t0\\tN\\tY\\tWorks well\\tBought this to replace the one I bought from a box store. It works great!\\t2015-06-01\\nUS\\t49179706\\tR267LXO9LMJYG7\\tB00GY8J8IC\\t627729688\\tSummer Infant 3D lite Convenience Stroller\\tBaby\\t5\\t0\\t0\\tN\\tY\\tIt\\'s lightweight & really nice for this stroller but wishing it should have two ...\\tIt\\'s lightweight & really nice for this stroller but wishing it should have two cup holders instead of 1 :(\\t2015-06-01\\nUS\\t23812057\\tR1LBMUIKYL16I7\\tB000KJBFC8\\t778935799\\tStar Kids Snack & Play Travel Tray, Black\\tBaby\\t3\\t0\\t0\\tN\\tY\\tThree Stars\\tGreat idea, doesn\\'t fit the car seat.  Must need a special carseat to make it work.\\t2015-06-01\\nUS\\t47406009\\tR24AZEP1F8W999\\tB00O2VQZ8O\\t675489728\\tBritax Roundabout G4.1 Convertible Car Seat\\tBaby\\t5\\t10\\t14\\tN\\tY\\tA High Quality Product All Around!\\tThis car seat is fantastic. It is rated as very safe on Con. Rep. and is very reasonably priced (the highest rated under $200). It is a substantial piece of safety equipment. I have used Safety 1st car seats (Designer 22 and the onside air) and do like them, but if you can spend a bit more, this car seat 1) is easier to install rear-facing (the Safety 1st onside air is a royal nightmare requiring super human strength and magic spells) 2) has so much more padding for comfort, 3) is reinforced with metal ( the plastic-only ones twist and bend in a creepy way), 4) has a tether for rear facing installation (which from a physics perspective is really important), and 5) has much better over all quality, look, and feel. Oh, and it has shock absorbers!<br /><br />I\\'ve only just begun using it, but just ordered another one for my toddler. I feel bad leaving him in the hard Safety 1st while his little brother rides around in the luxurious safety cocoon of the Britax. We\\'ll keep the Safety 1st as a back up.\\t2015-06-01\\nUS\\t1059525\\tRLM0R58QYNO9R\\tB00MTJWT68\\t404268296\\tDream On Me Mesh Security Crib Rail, Blue\\tBaby\\t5\\t0\\t0\\tN\\tY\\tFive Stars\\tkeeps my little one in the bed love it!!\\t2015-06-01\\nUS\\t32798742\\tRALTMA2HXYHHY\\tB0049U5UBQ\\t34536118\\tBadger Basket Moses Basket with Hood and Bedding\\tBaby\\t5\\t0\\t0\\tN\\tY\\tFive Stars\\tADORABLE! I can\\'t wait to take baby places in this!\\t2015-06-01\\nUS\\t23940515\\tR26G38YIHVK7C4\\tB008KW8JJE\\t469689392\\tKEET Roundy Chair with Microsuede Ottoman\\tBaby\\t5\\t0\\t0\\tN\\tY\\tFive Stars\\tIt\\'s very cute. My son is 18 months old and he loves his chair.\\t2015-06-01\\nUS\\t43239508\\tR3L5YNWLZIHBHJ\\tB00V72KKZU\\t92396813\\tDiaper Diamond - Cloth Diaper Sprayer Shield\\tBaby\\t5\\t3\\t4\\tN\\tN\\tA must have for your diaper sprayer\\tI have been using this for a couple of weeks now and it really makes spraying dirty diapers so much easier!  I love how the design lets you pull the diaper taut to get in all the inner areas of the elastic. We use best bottom diapers with double gussets and I always had a hard time holding the diaper gussets open while trying to spray them clean and not make a mess of the bathroom while doing it. The diaper diamond makes it easy!\\t2015-06-01\\nUS\\t14656800\\tR1HAJJDFTNPPXK\\tB009585IJ6\\t574718805\\tRainfall Rattle by Discovery Toys\\tBaby\\t5\\t0\\t0\\tN\\tY\\tFive Stars\\tBaby loves the sounds\\t2015-06-01\\nUS\\t3860694\\tR2I6NN3YX0JPDL\\tB00JYH2EHC\\t814453017\\tDisney Minnie Brush and Comb Set\\tBaby\\t5\\t0\\t0\\tN\\tY\\tFive Stars\\tEvery little girl will love this.\\t2015-06-01\\nUS\\t10041000\\tR3AZH4A60OYG6K\\tB00L62JEWQ\\t726006025\\tGreen Eats Snack Bowls, 8 Count\\tBaby\\t4\\t0\\t0\\tN\\tY\\tGreat for one year old\\tTomato sauce does stain these, but other than that these are great!! I prefer glass (and stainless steel) for food, but that obviously doesn\\'t work for a toddler, so these are the next best thing. If it has to be plastic, it has to be green eats for us.\\t2015-06-01\\nUS\\t42332379\\tR3R0BLKYNOU39C\\tB00GMD8Q5A\\t991844595\\tNeneSupply Valves and Membranes for Medela Breastpumps (Pump In Style, Swing, Lactina, Symphony, and Mini Electric). Suitable for Medela Breastshields and NeneSupply Breastshields. Replaces Medela Valve, and Membrane. Can Be Used With Medela Quick Clean Micro Steam Bag\\tBaby\\t5\\t1\\t1\\tN\\tY\\tGreat value!\\tAs described, needed extra parts for use with the Medela Harmony I am currently renting. They work great!\\t2015-06-01\\nUS\\t20438340\\tR3KW2QW5COGQDN\\tB00527JQ92\\t199930620\\tPhilips AVENT BPA Free Classic Adaptor Bottle Ring\\tBaby\\t5\\t0\\t0\\tN\\tY\\tFive Stars\\tWorks as described.\\t2015-06-01\\nUS\\t13893727\\tR2MC5PE2NX0LQ1\\tB0077P3U6W\\t300462531\\tbabyletto Madison Swivel Glider, Ecru\\tBaby\\t3\\t0\\t0\\tN\\tY\\tThree Stars\\tChair is comfortable but quite small. Disappointed.\\t2015-06-01\\nUS\\t12976432\\tRZS0GIU848OTF\\tB007UK1CDM\\t17201583\\t4Moms 2014 MamaRoo\\tBaby\\t5\\t0\\t0\\tN\\tY\\tExpensive but works great for babes that don\\'t like vibrating rockers.\\tExpensive but works wonderfully. My little one hates vibrating chairs so this was a decent alternative that the fussy one actually likes.\\t2015-06-01\\nUS\\t24080016\\tRAKNIOJ3G9JWJ\\tB00A65YMA8\\t805860882\\tBumkins Pacifier Clip\\tBaby\\t3\\t5\\t5\\tN\\tY\\tClip rusted!\\tThe clip bent so it doesn\\'t really grab onto material anymore - kinda defeats the purpose of having it.  Since the clip easily comes off whatever you clip it to, my son insists on putting the ribbon and the metal clip in his mouth in addition to the &#34;binky.&#34;  I didn\\'t really think it was a big deal until I noticed RUST on the clip!  Went straight in the trash!\\t2015-06-01\\nUS\\t32002912\\tR1SRF19Q121AKQ\\tB00OV5ODEE\\t231174817\\tGate Check PRO Car Seat Travel Bag | Ultra Durable & Lightweight| One Size Fits Most | Inc. Infant, Toddler & All-In-One Convertible Models | Invest In Stress Free Travel For You & Your Kids\\tBaby\\t5\\t2\\t2\\tN\\tY\\tso glad I bought this\\tDid its job. Travelled on several flights with our car seat protected by this.  The bag has several marks which could have easily ruined the seat...the handle made it easy to carry to the gate despite the bulkiness of the seat. So glad I got this.\\t2015-06-01\\nUS\\t43944343\\tRPS1N4OQP5UVV\\tB005LNJCFU\\t886918522\\tGoodbyn 2 Pack Original Dishwasher-Safe Sticker Lunch Box Sets\\tBaby\\t5\\t0\\t0\\tN\\tY\\tMy daughter had a great time decorating her lunch box with these fun\\tMy daughter had a great time decorating her lunch box with these fun, quirky stickers! Haven\\'t put them through the dishwasher yet, but so far so good. They can be a little hard to peel off at first. But we figured it out.\\t2015-06-01\\nUS\\t36684527\\tR39WKOHB3A2F9M\\tB00AW0MZF6\\t342904794\\tIngenuity Washable Playard With Dream Centre, Shiloh (Discontinued by Manufacturer)\\tBaby\\t3\\t2\\t3\\tN\\tN\\tA hassle of a build and not smartly designed. But still a nice playard.\\tThis playard made me angry during the building process. I was left with anger, not feelings of delight at my new purchase.<br /><br />The instructions go back and forth between using actual words to describe some of the steps, and just a series of pictures that may or may not make sense. In fact a few of the directions didn\\'t even correspond to the pieces available, so we just kind of figured it out on our own.  Definitely more complicated than necessary, regarding the changing station & topside sleeper. The changing station flips up and out of the way fairly easily for dynamic use. The dream centre sleeper, not so much - that requires a little more elbow grease to get it off and on in order to access the main bassinet or playard area below.<br /><br />I have the feeling I\\'m just going to ditch the sleeper part, and just use the main bassinet area & flip-over changing station.<br /><br />Technically yes all the fabrics are washable, but i would estimate likely 30-45 minutes to be able to get all the pieces removed in order to wash them, and likely about the same time to get them back on - not worth my time, i\\'d rather just hose the thing down if it gets that bad.<br /><br />A highlight, however!<br />The music player has really pretty, soothing music. Almost soothing enough to calm my anger and frustration from building the dang thing. Almost.\\t2015-06-01\\nUS\\t10322252\\tR1W086UPSRI9DT\\tB00GY8J8GY\\t485695846\\tSummer Infant 2014 3D Lite Convenience Stroller, Hibiscus Pink (Discontinued by Manufacturer)\\tBaby\\t2\\t0\\t0\\tN\\tY\\tSmall basket to hold stuffs\\tI like that it\\'s smaller than my other stroller however the basket below is NOT extra large as it says in the description. You can only put your purse and maybe a small baby bag. I wish it did come with a tray for baby.\\t2015-06-01\\nUS\\t16701031\\tR3RETYGHEG03CE\\tB001EJH1VC\\t221428817\\tTo Mommy on Our First Mother\\'s Day - Picture Frame Gift\\tBaby\\t5\\t0\\t0\\tN\\tY\\tFive Stars\\tThis was a gift to my daughter on her first Mother\\'s day\\t2015-06-01\\nUS\\t5241054\\tRILLHHLUPTLIS\\tB00OIJ56NK\\t746613279\\tThe best Quality Stroller Organizer - For Your Stroller, Buggy or Pram\\tBaby\\t5\\t0\\t0\\tN\\tN\\tThis is the perfect stroller bag for my jogger\\tThis is the perfect stroller bag for my jogger, my new iPhone 6 plus can finally be safely inside this bag while I run. I couldn\\'t fit it anywhere on my jogger before, made jogging almost impossible, but now I have room for it and a large bottle of water, plus so much more. I love that it has a large/long mesh bag to store my son\\'s snacks in and I can leave the top part for things I need right away like keys, phone, water with a lot of extra room left.  Made from very strong material, it will last for very long time and I\\'ll be  at ease knowing my expensive items will be kept safe on my stroller.\\t2015-06-01\\nUS\\t27735251\\tR13XD8S1I7YHXJ\\tB00PDQX4JU\\t345575433\\tLCY Large Capacity 3 Piece Tote Diaper Bag Set\\tBaby\\t2\\t1\\t1\\tN\\tY\\tTwo Stars\\tGood size but cheap material. It\\'s starting to rip after 2 months.\\t2015-06-01\\nUS\\t4271177\\tR3D7TMGAKP0SP\\tB00RP0GHBO\\t250517482\\tFridaBaby NoseFrida The SnotSucker Nasal Aspirator\\tBaby\\t5\\t0\\t0\\tN\\tY\\tWorked amazing and is so easy to use\\t2 month old had RSV and this was a lifesaver. Worked amazing and is so easy to use!\\t2015-06-01\\nUS\\t15174711\\tR39UEEYDGL966N\\tB00A4K8FX0\\t36311832\\tSamsung SEW-3037W SafeVIEW Baby Monitoring System IR Night Vision PTZ 3.5 Inch.\\tBaby\\t3\\t0\\t0\\tN\\tN\\tUnreliable and often out of range\"', 'product_category': \"When this item is working well, it's great. When it's not...it will make you crazy. The monitor randomly and often displays &#34;Out of Range&#34; even when it is clearly within range. In my experience, this seems to be due to Wi-Fi interference. If I place it near a Wi-Fi enabled device it almost always beeps, displays a black screen, and an out of range message. Re &#34;pairing&#34; the camera and monitor does not always do the trick. It is so temperamental...sometimes it will be sitting stationary, working fine, then all of a sudden it begins acting up. This is especially bothersome when it starts beeping from your nightstand in the middle of the night. Also, the battery life is not that great. This is the only baby monitor I have owned so I have nothing to compare it to, however I don't think I would recommend this monitor to a friend.\", 'star_rating': '2015-06-01', 'helpful_votes': nan, 'total_votes': nan, 'vine': nan, 'verified_purchase': nan, 'review_headline': nan, 'review_body': nan, 'review_date': nan}\n"
     ]
    }
   ],
   "source": [
    "myquery2 = {\"_id\": 196652}\n",
    "mydoc2 = mycol.find(myquery2)\n",
    "\n",
    "for y in mydoc2:\n",
    "  print(y)"
   ]
  },
  {
   "cell_type": "markdown",
   "id": "b9a2e2a6",
   "metadata": {},
   "source": [
    "Finally I checked the total count of the documents in the collection"
   ]
  },
  {
   "cell_type": "code",
   "execution_count": 5,
   "id": "7ac31400",
   "metadata": {},
   "outputs": [
    {
     "name": "stdout",
     "output_type": "stream",
     "text": [
      "The number of documents in collection :  9229574\n"
     ]
    }
   ],
   "source": [
    "mydoc3 = mycol.count_documents({})\n",
    "print(\"The number of documents in collection : \", mydoc3) "
   ]
  }
 ],
 "metadata": {
  "kernelspec": {
   "display_name": "Python 3 (ipykernel)",
   "language": "python",
   "name": "python3"
  },
  "language_info": {
   "codemirror_mode": {
    "name": "ipython",
    "version": 3
   },
   "file_extension": ".py",
   "mimetype": "text/x-python",
   "name": "python",
   "nbconvert_exporter": "python",
   "pygments_lexer": "ipython3",
   "version": "3.8.8"
  }
 },
 "nbformat": 4,
 "nbformat_minor": 5
}
