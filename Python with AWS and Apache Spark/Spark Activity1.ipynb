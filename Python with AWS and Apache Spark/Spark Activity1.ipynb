{
 "cells": [
  {
   "cell_type": "markdown",
   "id": "4010bbe4",
   "metadata": {},
   "source": [
    "# SPARK ACTIVITY 1"
   ]
  },
  {
   "cell_type": "markdown",
   "id": "e1731049",
   "metadata": {},
   "source": [
    "### ACTIVITY QUESTION\n",
    "\n",
    "For the file movie_lines.txt, your task is to see what is the most frequent “first”\n",
    "Word in the movie lines. For this activity you do not have to remove punctuation\n",
    "But you will get 5 bonus points if you do so! Do all this using your rdd..."
   ]
  },
  {
   "cell_type": "code",
   "execution_count": 1,
   "id": "75ba6e63",
   "metadata": {},
   "outputs": [],
   "source": [
    "import s3fs\n",
    "fs = s3fs.S3FileSystem()"
   ]
  },
  {
   "cell_type": "code",
   "execution_count": 2,
   "id": "3b87703c",
   "metadata": {},
   "outputs": [],
   "source": [
    "strLoc = 's3://686springbucket-emmanuel/movie-dialog-corpus/'"
   ]
  },
  {
   "cell_type": "code",
   "execution_count": 3,
   "id": "26a2101a",
   "metadata": {},
   "outputs": [
    {
     "data": {
      "text/plain": [
       "['686springbucket-emmanuel/movie-dialog-corpus/.DS_Store',\n",
       " '686springbucket-emmanuel/movie-dialog-corpus/README.txt',\n",
       " '686springbucket-emmanuel/movie-dialog-corpus/chameleons.pdf',\n",
       " '686springbucket-emmanuel/movie-dialog-corpus/movie_characters_metadata.txt',\n",
       " '686springbucket-emmanuel/movie-dialog-corpus/movie_conversations.txt',\n",
       " '686springbucket-emmanuel/movie-dialog-corpus/movie_lines.txt',\n",
       " '686springbucket-emmanuel/movie-dialog-corpus/movie_titles_metadata.txt',\n",
       " '686springbucket-emmanuel/movie-dialog-corpus/raw_script_urls.txt']"
      ]
     },
     "execution_count": 3,
     "metadata": {},
     "output_type": "execute_result"
    }
   ],
   "source": [
    "fs.ls(strLoc)"
   ]
  },
  {
   "cell_type": "code",
   "execution_count": 4,
   "id": "4bd0729b",
   "metadata": {},
   "outputs": [],
   "source": [
    "# Opening up the movie_lines.txt file\n",
    "with fs.open(strLoc + 'movie_lines.txt', 'rb') as f:\n",
    "    data = f.read()"
   ]
  },
  {
   "cell_type": "code",
   "execution_count": 5,
   "id": "0597c68a",
   "metadata": {},
   "outputs": [],
   "source": [
    "#the code below is used to convert the file read to latin-1, we often also converts to utf-8\n",
    "data = data.decode('latin-1')"
   ]
  },
  {
   "cell_type": "markdown",
   "id": "abd3cc76",
   "metadata": {},
   "source": [
    "Creating a function to remove punctuation as directed by the question"
   ]
  },
  {
   "cell_type": "code",
   "execution_count": 6,
   "id": "2715c54c",
   "metadata": {},
   "outputs": [],
   "source": [
    "lsLines = data.split('\\n')\n",
    "\n",
    "# Defining useful functions that would be applied to RDD\n",
    "\n",
    "def remove_punc(string):\n",
    "    punc = '''!()-[]{};:'\"\\,<>./?@#%^&*_~'''\n",
    "    for a in string:\n",
    "        if a in punc:\n",
    "            string = string.replace(a, \"\")\n",
    "    return string\n",
    "\n",
    "def Func(lines):\n",
    "    lines = lines.lower()\n",
    "    lines = lines.split(' +++$+++ ')[4]\n",
    "    return lines"
   ]
  },
  {
   "cell_type": "code",
   "execution_count": 7,
   "id": "1cf9bba5",
   "metadata": {},
   "outputs": [
    {
     "data": {
      "text/plain": [
       "['L1045 +++$+++ u0 +++$+++ m0 +++$+++ BIANCA +++$+++ They do not!',\n",
       " 'L1044 +++$+++ u2 +++$+++ m0 +++$+++ CAMERON +++$+++ They do to!',\n",
       " 'L985 +++$+++ u0 +++$+++ m0 +++$+++ BIANCA +++$+++ I hope so.',\n",
       " 'L984 +++$+++ u2 +++$+++ m0 +++$+++ CAMERON +++$+++ She okay?']"
      ]
     },
     "execution_count": 7,
     "metadata": {},
     "output_type": "execute_result"
    }
   ],
   "source": [
    "# To see if the file was read, decoded and if the split by new line was done properly\n",
    "lsLines[0:4]"
   ]
  },
  {
   "cell_type": "markdown",
   "id": "2d504f9b",
   "metadata": {},
   "source": [
    "#### Setting up pyspark"
   ]
  },
  {
   "cell_type": "code",
   "execution_count": 8,
   "id": "e23bf15b",
   "metadata": {},
   "outputs": [],
   "source": [
    "import pyspark"
   ]
  },
  {
   "cell_type": "code",
   "execution_count": 9,
   "id": "0d100d3c",
   "metadata": {},
   "outputs": [],
   "source": [
    "from pyspark import SparkContext"
   ]
  },
  {
   "cell_type": "code",
   "execution_count": 10,
   "id": "410ce3a2",
   "metadata": {},
   "outputs": [],
   "source": [
    "sc = SparkContext()"
   ]
  },
  {
   "cell_type": "code",
   "execution_count": 11,
   "id": "3ca6733a",
   "metadata": {},
   "outputs": [],
   "source": [
    "#the last line is junk so get rid of it ([0:-1])\n",
    "# then parallelize the list\n",
    "\n",
    "lineRDD = sc.parallelize(lsLines[0:-1])"
   ]
  },
  {
   "cell_type": "markdown",
   "id": "804b5741",
   "metadata": {},
   "source": [
    "#### Applying our defined function to RDDs to solve the task given"
   ]
  },
  {
   "cell_type": "code",
   "execution_count": 12,
   "id": "9a1d2238",
   "metadata": {},
   "outputs": [],
   "source": [
    "lineRDD1 = lineRDD.map(Func)"
   ]
  },
  {
   "cell_type": "code",
   "execution_count": 13,
   "id": "23383420",
   "metadata": {},
   "outputs": [],
   "source": [
    "lineRDD2 = lineRDD1.map(remove_punc)"
   ]
  },
  {
   "cell_type": "markdown",
   "id": "6358eeca",
   "metadata": {},
   "source": [
    "#### Getting the First spoken word by an actor for each line"
   ]
  },
  {
   "cell_type": "code",
   "execution_count": 14,
   "id": "4a729b43",
   "metadata": {},
   "outputs": [],
   "source": [
    "#use map to split each line by the delimiter then get the first word spoken by each actor out of there,\n",
    "#finally create an item with the first spoken word by an actor and a 1\n",
    "wordRDD = lineRDD2.map(lambda line:(line.split(' ')[0],1))"
   ]
  },
  {
   "cell_type": "code",
   "execution_count": 15,
   "id": "71d3fbac",
   "metadata": {},
   "outputs": [
    {
     "name": "stdout",
     "output_type": "stream",
     "text": [
      "[('they', 1), ('they', 1), ('i', 1), ('she', 1)]\n"
     ]
    }
   ],
   "source": [
    "print(wordRDD.collect()[0:4])"
   ]
  },
  {
   "cell_type": "code",
   "execution_count": 16,
   "id": "e4ba1a63",
   "metadata": {},
   "outputs": [],
   "source": [
    "#reduce by key\n",
    "wordRDD = wordRDD.reduceByKey(lambda x,y:x+y)"
   ]
  },
  {
   "cell_type": "code",
   "execution_count": 17,
   "id": "97048b34",
   "metadata": {},
   "outputs": [
    {
     "name": "stdout",
     "output_type": "stream",
     "text": [
      "[('i', 28164), ('no', 9527), ('im', 7060), ('like', 605)]\n"
     ]
    }
   ],
   "source": [
    "print(wordRDD.collect()[0:4])"
   ]
  },
  {
   "cell_type": "code",
   "execution_count": 18,
   "id": "385c9e12",
   "metadata": {},
   "outputs": [],
   "source": [
    "#sort \n",
    "wordRDD = wordRDD.sortBy(lambda word: -word[1])"
   ]
  },
  {
   "cell_type": "code",
   "execution_count": 19,
   "id": "adf01c0c",
   "metadata": {},
   "outputs": [
    {
     "name": "stdout",
     "output_type": "stream",
     "text": [
      "[('i', 28164), ('you', 15365), ('what', 12046), ('no', 9527)]\n"
     ]
    }
   ],
   "source": [
    "print(wordRDD.collect()[0:4])"
   ]
  },
  {
   "cell_type": "code",
   "execution_count": 20,
   "id": "0c7d2f42",
   "metadata": {},
   "outputs": [],
   "source": [
    "sc.stop()"
   ]
  },
  {
   "cell_type": "code",
   "execution_count": null,
   "id": "affd0148",
   "metadata": {},
   "outputs": [],
   "source": []
  }
 ],
 "metadata": {
  "kernelspec": {
   "display_name": "conda_python3",
   "language": "python",
   "name": "conda_python3"
  },
  "language_info": {
   "codemirror_mode": {
    "name": "ipython",
    "version": 3
   },
   "file_extension": ".py",
   "mimetype": "text/x-python",
   "name": "python",
   "nbconvert_exporter": "python",
   "pygments_lexer": "ipython3",
   "version": "3.6.13"
  }
 },
 "nbformat": 4,
 "nbformat_minor": 5
}
